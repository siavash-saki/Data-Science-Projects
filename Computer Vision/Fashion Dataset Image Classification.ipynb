{
  "nbformat": 4,
  "nbformat_minor": 0,
  "metadata": {
    "kernelspec": {
      "name": "python3",
      "display_name": "Python 3"
    },
    "language_info": {
      "codemirror_mode": {
        "name": "ipython",
        "version": 3
      },
      "file_extension": ".py",
      "mimetype": "text/x-python",
      "name": "python",
      "nbconvert_exporter": "python",
      "pygments_lexer": "ipython3",
      "version": "3.7.6"
    },
    "colab": {
      "name": "Fashion Dataset Image Classification.ipynb",
      "provenance": [],
      "collapsed_sections": [
        "zCQf6J2pmS6g"
      ]
    },
    "accelerator": "GPU"
  },
  "cells": [
    {
      "cell_type": "markdown",
      "metadata": {
        "id": "X4WvzS0QmS4D",
        "colab_type": "text"
      },
      "source": [
        "# Fashion Dataset Image Classification"
      ]
    },
    {
      "cell_type": "markdown",
      "metadata": {
        "id": "NFUFwfE8mS4H",
        "colab_type": "text"
      },
      "source": [
        "#### The goal of this project is to build convolutional neural networks to classify images.\n",
        "\n",
        "The data set includes 10 labels of different clothing types with 28 by 28 *grayscale* images. There is a training set of 60,000 images and 10,000 test images.\n",
        "\n",
        "    Label\tDescription\n",
        "    0\t    T-shirt/top\n",
        "    1\t    Trouser\n",
        "    2\t    Pullover\n",
        "    3\t    Dress\n",
        "    4\t    Coat\n",
        "    5\t    Sandal\n",
        "    6\t    Shirt\n",
        "    7\t    Sneaker\n",
        "    8\t    Bag\n",
        "    9\t    Ankle boot\n",
        "    \n",
        " "
      ]
    },
    {
      "cell_type": "code",
      "metadata": {
        "id": "-NTX2etmmWUp",
        "colab_type": "code",
        "outputId": "1760e2f4-cdcd-4c97-f143-a3b5812b6acc",
        "colab": {
          "base_uri": "https://localhost:8080/",
          "height": 35
        }
      },
      "source": [
        "%tensorflow_version 2.x"
      ],
      "execution_count": 1,
      "outputs": [
        {
          "output_type": "stream",
          "text": [
            "TensorFlow 2.x selected.\n"
          ],
          "name": "stdout"
        }
      ]
    },
    {
      "cell_type": "code",
      "metadata": {
        "id": "PPd3uOnOmS4K",
        "colab_type": "code",
        "colab": {}
      },
      "source": [
        "import numpy as np\n",
        "import pandas as pd\n",
        "import matplotlib.pyplot as plt\n",
        "import seaborn as sns "
      ],
      "execution_count": 0,
      "outputs": []
    },
    {
      "cell_type": "markdown",
      "metadata": {
        "id": "FHjjJISSmS4R",
        "colab_type": "text"
      },
      "source": [
        "## The Data\n",
        "\n",
        "Load Data"
      ]
    },
    {
      "cell_type": "code",
      "metadata": {
        "id": "4rvQeNgLmS4T",
        "colab_type": "code",
        "outputId": "ddfebec0-eb5e-4039-808a-4302d2650b8a",
        "colab": {
          "base_uri": "https://localhost:8080/",
          "height": 161
        }
      },
      "source": [
        "from tensorflow.keras.datasets import fashion_mnist\n",
        "\n",
        "(x_train, y_train), (x_test, y_test) = fashion_mnist.load_data()"
      ],
      "execution_count": 3,
      "outputs": [
        {
          "output_type": "stream",
          "text": [
            "Downloading data from https://storage.googleapis.com/tensorflow/tf-keras-datasets/train-labels-idx1-ubyte.gz\n",
            "32768/29515 [=================================] - 0s 0us/step\n",
            "Downloading data from https://storage.googleapis.com/tensorflow/tf-keras-datasets/train-images-idx3-ubyte.gz\n",
            "26427392/26421880 [==============================] - 0s 0us/step\n",
            "Downloading data from https://storage.googleapis.com/tensorflow/tf-keras-datasets/t10k-labels-idx1-ubyte.gz\n",
            "8192/5148 [===============================================] - 0s 0us/step\n",
            "Downloading data from https://storage.googleapis.com/tensorflow/tf-keras-datasets/t10k-images-idx3-ubyte.gz\n",
            "4423680/4422102 [==============================] - 0s 0us/step\n"
          ],
          "name": "stdout"
        }
      ]
    },
    {
      "cell_type": "markdown",
      "metadata": {
        "id": "-6wZ1HpbmS4b",
        "colab_type": "text"
      },
      "source": [
        "## Visualizing the Data\n",
        "\n",
        "**TASK 2: Use matplotlib to view an image from the data set. It can be any image from the data set.**"
      ]
    },
    {
      "cell_type": "code",
      "metadata": {
        "id": "enY4LzHqmS4d",
        "colab_type": "code",
        "colab": {}
      },
      "source": [
        "(x_train, y_train), (x_test, y_test) = fashion_mnist.load_data()"
      ],
      "execution_count": 0,
      "outputs": []
    },
    {
      "cell_type": "code",
      "metadata": {
        "id": "qgX7hfaemS4k",
        "colab_type": "code",
        "outputId": "33a5fdd6-9286-47b1-aa3c-36fe4e568801",
        "colab": {
          "base_uri": "https://localhost:8080/",
          "height": 35
        }
      },
      "source": [
        "x_train.shape"
      ],
      "execution_count": 5,
      "outputs": [
        {
          "output_type": "execute_result",
          "data": {
            "text/plain": [
              "(60000, 28, 28)"
            ]
          },
          "metadata": {
            "tags": []
          },
          "execution_count": 5
        }
      ]
    },
    {
      "cell_type": "code",
      "metadata": {
        "id": "XO-d92MomS4q",
        "colab_type": "code",
        "outputId": "1e53348e-7c60-4db3-fa0b-52fa5341a5a7",
        "colab": {
          "base_uri": "https://localhost:8080/",
          "height": 230
        }
      },
      "source": [
        "plt.figure(figsize=(3,3))\n",
        "plt.imshow(x_train[0],cmap='gray')"
      ],
      "execution_count": 6,
      "outputs": [
        {
          "output_type": "execute_result",
          "data": {
            "text/plain": [
              "<matplotlib.image.AxesImage at 0x7f85beeae208>"
            ]
          },
          "metadata": {
            "tags": []
          },
          "execution_count": 6
        },
        {
          "output_type": "display_data",
          "data": {
            "image/png": "[encoded data removed]",
            "text/plain": [
              "<Figure size 216x216 with 1 Axes>"
            ]
          },
          "metadata": {
            "tags": []
          }
        }
      ]
    },
    {
      "cell_type": "code",
      "metadata": {
        "id": "r6hAD375mS4z",
        "colab_type": "code",
        "outputId": "0934e6cf-0f4a-48a5-ba39-58a7dc00b134",
        "colab": {
          "base_uri": "https://localhost:8080/",
          "height": 230
        }
      },
      "source": [
        "plt.figure(figsize=(3,3))\n",
        "plt.imshow(x_train[150],cmap='gray')"
      ],
      "execution_count": 7,
      "outputs": [
        {
          "output_type": "execute_result",
          "data": {
            "text/plain": [
              "<matplotlib.image.AxesImage at 0x7f85be9ddcc0>"
            ]
          },
          "metadata": {
            "tags": []
          },
          "execution_count": 7
        },
        {
          "output_type": "display_data",
          "data": {
            "image/png": "[encoded data removed]",
            "text/plain": [
              "<Figure size 216x216 with 1 Axes>"
            ]
          },
          "metadata": {
            "tags": []
          }
        }
      ]
    },
    {
      "cell_type": "code",
      "metadata": {
        "id": "8rf_PlRFmS46",
        "colab_type": "code",
        "outputId": "396fd7a7-be4d-4458-de5b-e0b939ec4d58",
        "colab": {
          "base_uri": "https://localhost:8080/",
          "height": 230
        }
      },
      "source": [
        "plt.figure(figsize=(3,3))\n",
        "plt.imshow(x_train[30],cmap='gray')"
      ],
      "execution_count": 8,
      "outputs": [
        {
          "output_type": "execute_result",
          "data": {
            "text/plain": [
              "<matplotlib.image.AxesImage at 0x7f85be9b7710>"
            ]
          },
          "metadata": {
            "tags": []
          },
          "execution_count": 8
        },
        {
          "output_type": "display_data",
          "data": {
            "image/png": "[encoded data removed]",
            "text/plain": [
              "<Figure size 216x216 with 1 Axes>"
            ]
          },
          "metadata": {
            "tags": []
          }
        }
      ]
    },
    {
      "cell_type": "code",
      "metadata": {
        "id": "IgLHgDFxmS5C",
        "colab_type": "code",
        "outputId": "029ca7df-cdfe-4e61-d811-098317e82c87",
        "colab": {
          "base_uri": "https://localhost:8080/",
          "height": 230
        }
      },
      "source": [
        "plt.figure(figsize=(3,3))\n",
        "plt.imshow(x_train[50],cmap='gray')"
      ],
      "execution_count": 9,
      "outputs": [
        {
          "output_type": "execute_result",
          "data": {
            "text/plain": [
              "<matplotlib.image.AxesImage at 0x7f85be997080>"
            ]
          },
          "metadata": {
            "tags": []
          },
          "execution_count": 9
        },
        {
          "output_type": "display_data",
          "data": {
            "image/png": "[encoded data removed]",
            "text/plain": [
              "<Figure size 216x216 with 1 Axes>"
            ]
          },
          "metadata": {
            "tags": []
          }
        }
      ]
    },
    {
      "cell_type": "code",
      "metadata": {
        "id": "8J8CSjlhmS5J",
        "colab_type": "code",
        "outputId": "9e0ae231-113e-405a-e09a-fe5ea9c8a270",
        "colab": {
          "base_uri": "https://localhost:8080/",
          "height": 283
        }
      },
      "source": [
        "sns.countplot(y_train)"
      ],
      "execution_count": 10,
      "outputs": [
        {
          "output_type": "execute_result",
          "data": {
            "text/plain": [
              "<matplotlib.axes._subplots.AxesSubplot at 0x7f85be943978>"
            ]
          },
          "metadata": {
            "tags": []
          },
          "execution_count": 10
        },
        {
          "output_type": "display_data",
          "data": {
            "image/png": "[encoded data removed]",
            "text/plain": [
              "<Figure size 432x288 with 1 Axes>"
            ]
          },
          "metadata": {
            "tags": []
          }
        }
      ]
    },
    {
      "cell_type": "markdown",
      "metadata": {
        "id": "QeDKRKSVmS5R",
        "colab_type": "text"
      },
      "source": [
        "## Preprocessing the Data\n",
        "\n",
        "We normalize the X train and X test data by dividing by the max value of the image arrays"
      ]
    },
    {
      "cell_type": "code",
      "metadata": {
        "id": "Xvez2YNnmS5S",
        "colab_type": "code",
        "outputId": "05634a1b-54d0-4632-d1f5-a15152f66bf9",
        "colab": {
          "base_uri": "https://localhost:8080/",
          "height": 35
        }
      },
      "source": [
        "x_train.max()"
      ],
      "execution_count": 11,
      "outputs": [
        {
          "output_type": "execute_result",
          "data": {
            "text/plain": [
              "255"
            ]
          },
          "metadata": {
            "tags": []
          },
          "execution_count": 11
        }
      ]
    },
    {
      "cell_type": "code",
      "metadata": {
        "id": "Zy57M06lmS5Y",
        "colab_type": "code",
        "colab": {}
      },
      "source": [
        "x_train= x_train/255\n",
        "x_test= x_test/255"
      ],
      "execution_count": 0,
      "outputs": []
    },
    {
      "cell_type": "code",
      "metadata": {
        "id": "8pz29mnYmS5e",
        "colab_type": "code",
        "outputId": "c60352d9-4313-450c-f999-4b9a6658f1a6",
        "colab": {
          "base_uri": "https://localhost:8080/",
          "height": 35
        }
      },
      "source": [
        "x_test.max()"
      ],
      "execution_count": 13,
      "outputs": [
        {
          "output_type": "execute_result",
          "data": {
            "text/plain": [
              "1.0"
            ]
          },
          "metadata": {
            "tags": []
          },
          "execution_count": 13
        }
      ]
    },
    {
      "cell_type": "markdown",
      "metadata": {
        "id": "oOG9BqrCmS5k",
        "colab_type": "text"
      },
      "source": [
        "We reshape the X arrays to include a 4 dimension of the single channel."
      ]
    },
    {
      "cell_type": "code",
      "metadata": {
        "id": "sDQtRuc_mS5m",
        "colab_type": "code",
        "outputId": "b2f6a325-c4aa-4b94-f3f5-e04849fc53b6",
        "colab": {
          "base_uri": "https://localhost:8080/",
          "height": 35
        }
      },
      "source": [
        "x_train.shape"
      ],
      "execution_count": 14,
      "outputs": [
        {
          "output_type": "execute_result",
          "data": {
            "text/plain": [
              "(60000, 28, 28)"
            ]
          },
          "metadata": {
            "tags": []
          },
          "execution_count": 14
        }
      ]
    },
    {
      "cell_type": "code",
      "metadata": {
        "id": "P0rG1aPmmS5x",
        "colab_type": "code",
        "colab": {}
      },
      "source": [
        "x_train = x_train.reshape(60000, 28, 28, 1)\n",
        "x_test =  x_test.reshape(10000, 28, 28, 1)"
      ],
      "execution_count": 0,
      "outputs": []
    },
    {
      "cell_type": "markdown",
      "metadata": {
        "id": "vMmb01uomS52",
        "colab_type": "text"
      },
      "source": [
        "Then we convert the y_train and y_test values to be one-hot encoded for categorical analysis by Keras"
      ]
    },
    {
      "cell_type": "code",
      "metadata": {
        "id": "xLvpnbTomS54",
        "colab_type": "code",
        "outputId": "c644856b-5203-4aea-c81e-6dcce1264d22",
        "colab": {
          "base_uri": "https://localhost:8080/",
          "height": 35
        }
      },
      "source": [
        "y_train"
      ],
      "execution_count": 16,
      "outputs": [
        {
          "output_type": "execute_result",
          "data": {
            "text/plain": [
              "array([9, 0, 0, ..., 3, 0, 5], dtype=uint8)"
            ]
          },
          "metadata": {
            "tags": []
          },
          "execution_count": 16
        }
      ]
    },
    {
      "cell_type": "code",
      "metadata": {
        "id": "ZR6p7jBHmS5-",
        "colab_type": "code",
        "colab": {}
      },
      "source": [
        "from tensorflow.keras.utils import to_categorical"
      ],
      "execution_count": 0,
      "outputs": []
    },
    {
      "cell_type": "code",
      "metadata": {
        "id": "3cEXV3WnmS6D",
        "colab_type": "code",
        "colab": {}
      },
      "source": [
        "y_train= to_categorical(y_train)\n",
        "y_test= to_categorical(y_test)"
      ],
      "execution_count": 0,
      "outputs": []
    },
    {
      "cell_type": "code",
      "metadata": {
        "id": "zfkdmhWemS6I",
        "colab_type": "code",
        "colab": {}
      },
      "source": [
        ""
      ],
      "execution_count": 0,
      "outputs": []
    },
    {
      "cell_type": "code",
      "metadata": {
        "id": "NiGGXD5PmS6M",
        "colab_type": "code",
        "colab": {}
      },
      "source": [
        ""
      ],
      "execution_count": 0,
      "outputs": []
    },
    {
      "cell_type": "code",
      "metadata": {
        "id": "trmXvef4mS6R",
        "colab_type": "code",
        "colab": {}
      },
      "source": [
        ""
      ],
      "execution_count": 0,
      "outputs": []
    },
    {
      "cell_type": "code",
      "metadata": {
        "id": "1E37uPSqmS6W",
        "colab_type": "code",
        "colab": {}
      },
      "source": [
        ""
      ],
      "execution_count": 0,
      "outputs": []
    },
    {
      "cell_type": "code",
      "metadata": {
        "id": "cWpw5zigmS6b",
        "colab_type": "code",
        "colab": {}
      },
      "source": [
        ""
      ],
      "execution_count": 0,
      "outputs": []
    },
    {
      "cell_type": "markdown",
      "metadata": {
        "id": "zCQf6J2pmS6g",
        "colab_type": "text"
      },
      "source": [
        "## Building the Model\n",
        "\n",
        "We use Keras to create a model\n",
        "\n",
        "**Then compile the model with these parameters: loss='categorical_crossentropy', optimizer='rmsprop', metrics=['accuracy']**"
      ]
    },
    {
      "cell_type": "code",
      "metadata": {
        "id": "0jfVsrbmmS6i",
        "colab_type": "code",
        "colab": {}
      },
      "source": [
        "from tensorflow.keras.models import Sequential\n",
        "from tensorflow.keras.layers import Conv2D, MaxPool2D, Flatten, Dense, Dropout"
      ],
      "execution_count": 0,
      "outputs": []
    },
    {
      "cell_type": "code",
      "metadata": {
        "id": "F0wZh28mmS6n",
        "colab_type": "code",
        "colab": {}
      },
      "source": [
        "model = Sequential()\n",
        "\n",
        "model.add(Conv2D(filters=32, kernel_size=(4,4),input_shape=(28, 28, 1), activation='relu',))\n",
        "model.add(MaxPool2D(pool_size=(2, 2)))\n",
        "model.add(Flatten())\n",
        "model.add(Dense(128, activation='relu'))\n",
        "model.add(Dense(10, activation='softmax'))\n",
        "\n",
        "model.compile(loss='categorical_crossentropy',optimizer='rmsprop',metrics=['accuracy'])"
      ],
      "execution_count": 0,
      "outputs": []
    },
    {
      "cell_type": "code",
      "metadata": {
        "id": "FzpcF5xHmS6s",
        "colab_type": "code",
        "outputId": "51fffe3a-0376-4341-c3b5-1599acb3dd6e",
        "colab": {
          "base_uri": "https://localhost:8080/",
          "height": 0
        }
      },
      "source": [
        "model.summary()"
      ],
      "execution_count": 21,
      "outputs": [
        {
          "output_type": "stream",
          "text": [
            "Model: \"sequential\"\n",
            "_________________________________________________________________\n",
            "Layer (type)                 Output Shape              Param #   \n",
            "=================================================================\n",
            "conv2d (Conv2D)              (None, 25, 25, 32)        544       \n",
            "_________________________________________________________________\n",
            "max_pooling2d (MaxPooling2D) (None, 12, 12, 32)        0         \n",
            "_________________________________________________________________\n",
            "flatten (Flatten)            (None, 4608)              0         \n",
            "_________________________________________________________________\n",
            "dense (Dense)                (None, 128)               589952    \n",
            "_________________________________________________________________\n",
            "dense_1 (Dense)              (None, 10)                1290      \n",
            "=================================================================\n",
            "Total params: 591,786\n",
            "Trainable params: 591,786\n",
            "Non-trainable params: 0\n",
            "_________________________________________________________________\n"
          ],
          "name": "stdout"
        }
      ]
    },
    {
      "cell_type": "markdown",
      "metadata": {
        "id": "9pfJUmDVmS6w",
        "colab_type": "text"
      },
      "source": [
        "## Train The Model"
      ]
    },
    {
      "cell_type": "code",
      "metadata": {
        "id": "PO1Al2j9mS6y",
        "colab_type": "code",
        "colab": {}
      },
      "source": [
        "from tensorflow.keras.callbacks import EarlyStopping"
      ],
      "execution_count": 0,
      "outputs": []
    },
    {
      "cell_type": "code",
      "metadata": {
        "id": "dtbLP8TzmS62",
        "colab_type": "code",
        "colab": {}
      },
      "source": [
        "early_stop= EarlyStopping(monitor='val_loss', mode='min',patience=10,verbose=1)"
      ],
      "execution_count": 0,
      "outputs": []
    },
    {
      "cell_type": "code",
      "metadata": {
        "id": "Ss6sP1H0mS66",
        "colab_type": "code",
        "outputId": "1516f798-95dd-4eb9-a21c-91af491dcb77",
        "colab": {
          "base_uri": "https://localhost:8080/",
          "height": 611
        }
      },
      "source": [
        "model.fit(x_train,y_train,epochs=100,verbose=1,callbacks=[early_stop],validation_data=(x_test,y_test))"
      ],
      "execution_count": 24,
      "outputs": [
        {
          "output_type": "stream",
          "text": [
            "Train on 60000 samples, validate on 10000 samples\n",
            "Epoch 1/100\n",
            "60000/60000 [==============================] - 14s 230us/sample - loss: 0.3984 - accuracy: 0.8569 - val_loss: 0.3259 - val_accuracy: 0.8840\n",
            "Epoch 2/100\n",
            "60000/60000 [==============================] - 7s 119us/sample - loss: 0.2752 - accuracy: 0.9003 - val_loss: 0.3038 - val_accuracy: 0.8908\n",
            "Epoch 3/100\n",
            "60000/60000 [==============================] - 7s 122us/sample - loss: 0.2386 - accuracy: 0.9137 - val_loss: 0.2809 - val_accuracy: 0.9010\n",
            "Epoch 4/100\n",
            "60000/60000 [==============================] - 7s 118us/sample - loss: 0.2133 - accuracy: 0.9232 - val_loss: 0.2843 - val_accuracy: 0.9024\n",
            "Epoch 5/100\n",
            "60000/60000 [==============================] - 7s 116us/sample - loss: 0.1944 - accuracy: 0.9305 - val_loss: 0.2786 - val_accuracy: 0.9038\n",
            "Epoch 6/100\n",
            "60000/60000 [==============================] - 7s 121us/sample - loss: 0.1784 - accuracy: 0.9361 - val_loss: 0.2862 - val_accuracy: 0.9057\n",
            "Epoch 7/100\n",
            "60000/60000 [==============================] - 7s 118us/sample - loss: 0.1665 - accuracy: 0.9408 - val_loss: 0.3129 - val_accuracy: 0.9013\n",
            "Epoch 8/100\n",
            "60000/60000 [==============================] - 7s 119us/sample - loss: 0.1546 - accuracy: 0.9446 - val_loss: 0.3379 - val_accuracy: 0.9024\n",
            "Epoch 9/100\n",
            "60000/60000 [==============================] - 7s 120us/sample - loss: 0.1448 - accuracy: 0.9492 - val_loss: 0.2998 - val_accuracy: 0.9027\n",
            "Epoch 10/100\n",
            "60000/60000 [==============================] - 7s 118us/sample - loss: 0.1376 - accuracy: 0.9516 - val_loss: 0.3379 - val_accuracy: 0.9111\n",
            "Epoch 11/100\n",
            "60000/60000 [==============================] - 7s 119us/sample - loss: 0.1312 - accuracy: 0.9535 - val_loss: 0.3383 - val_accuracy: 0.9060\n",
            "Epoch 12/100\n",
            "60000/60000 [==============================] - 7s 120us/sample - loss: 0.1227 - accuracy: 0.9568 - val_loss: 0.3232 - val_accuracy: 0.9061\n",
            "Epoch 13/100\n",
            "60000/60000 [==============================] - 7s 117us/sample - loss: 0.1178 - accuracy: 0.9590 - val_loss: 0.3714 - val_accuracy: 0.9012\n",
            "Epoch 14/100\n",
            "60000/60000 [==============================] - 7s 120us/sample - loss: 0.1137 - accuracy: 0.9605 - val_loss: 0.3709 - val_accuracy: 0.9035\n",
            "Epoch 15/100\n",
            "60000/60000 [==============================] - 7s 120us/sample - loss: 0.1077 - accuracy: 0.9625 - val_loss: 0.3984 - val_accuracy: 0.9001\n",
            "Epoch 00015: early stopping\n"
          ],
          "name": "stdout"
        },
        {
          "output_type": "execute_result",
          "data": {
            "text/plain": [
              "<tensorflow.python.keras.callbacks.History at 0x7f85b0081438>"
            ]
          },
          "metadata": {
            "tags": []
          },
          "execution_count": 24
        }
      ]
    },
    {
      "cell_type": "markdown",
      "metadata": {
        "id": "sHr9_xLAmS6_",
        "colab_type": "text"
      },
      "source": [
        "## Evaluate Model"
      ]
    },
    {
      "cell_type": "code",
      "metadata": {
        "id": "j5YNDWL3mS7B",
        "colab_type": "code",
        "colab": {}
      },
      "source": [
        "losses = pd.DataFrame(model.history.history)"
      ],
      "execution_count": 0,
      "outputs": []
    },
    {
      "cell_type": "code",
      "metadata": {
        "id": "8EWmqR8WmS7H",
        "colab_type": "code",
        "colab": {
          "base_uri": "https://localhost:8080/",
          "height": 283
        },
        "outputId": "1b85e157-ef17-40b2-b6d1-1c6a907e21f7"
      },
      "source": [
        "losses[['accuracy','val_accuracy']].plot()"
      ],
      "execution_count": 26,
      "outputs": [
        {
          "output_type": "execute_result",
          "data": {
            "text/plain": [
              "<matplotlib.axes._subplots.AxesSubplot at 0x7f85984aa9b0>"
            ]
          },
          "metadata": {
            "tags": []
          },
          "execution_count": 26
        },
        {
          "output_type": "display_data",
          "data": {
            "image/png": "[encoded data removed]",
            "text/plain": [
              "<Figure size 432x288 with 1 Axes>"
            ]
          },
          "metadata": {
            "tags": []
          }
        }
      ]
    },
    {
      "cell_type": "code",
      "metadata": {
        "id": "I5hFrg91mS7N",
        "colab_type": "code",
        "colab": {
          "base_uri": "https://localhost:8080/",
          "height": 283
        },
        "outputId": "bde78633-74eb-45ba-8761-eb1b63becde6"
      },
      "source": [
        "losses[['loss','val_loss']].plot()"
      ],
      "execution_count": 27,
      "outputs": [
        {
          "output_type": "execute_result",
          "data": {
            "text/plain": [
              "<matplotlib.axes._subplots.AxesSubplot at 0x7f85983a1048>"
            ]
          },
          "metadata": {
            "tags": []
          },
          "execution_count": 27
        },
        {
          "output_type": "display_data",
          "data": {
            "image/png": "[encoded data removed]",
            "text/plain": [
              "<Figure size 432x288 with 1 Axes>"
            ]
          },
          "metadata": {
            "tags": []
          }
        }
      ]
    },
    {
      "cell_type": "code",
      "metadata": {
        "id": "UsuQ15f2mS7R",
        "colab_type": "code",
        "colab": {
          "base_uri": "https://localhost:8080/",
          "height": 53
        },
        "outputId": "72a4aebc-36ea-4b39-9fb8-73fb9fce3c2f"
      },
      "source": [
        "print(model.metrics_names)\n",
        "print(model.evaluate(x_test,y_test,verbose=0))"
      ],
      "execution_count": 29,
      "outputs": [
        {
          "output_type": "stream",
          "text": [
            "['loss', 'accuracy']\n",
            "[0.3983847061634064, 0.9001]\n"
          ],
          "name": "stdout"
        }
      ]
    },
    {
      "cell_type": "code",
      "metadata": {
        "id": "b6CNaRKlmS7Z",
        "colab_type": "code",
        "colab": {}
      },
      "source": [
        "from sklearn.metrics import classification_report,confusion_matrix"
      ],
      "execution_count": 0,
      "outputs": []
    },
    {
      "cell_type": "code",
      "metadata": {
        "id": "kY5u0OuIwar5",
        "colab_type": "code",
        "colab": {}
      },
      "source": [
        "(_,_), (_, y_test_class) = fashion_mnist.load_data()"
      ],
      "execution_count": 0,
      "outputs": []
    },
    {
      "cell_type": "code",
      "metadata": {
        "id": "bniy0QP2mS7f",
        "colab_type": "code",
        "colab": {
          "base_uri": "https://localhost:8080/",
          "height": 323
        },
        "outputId": "cc493cd1-ee94-4b75-9baf-e9e82aaccb76"
      },
      "source": [
        "predictions = model.predict_classes(x_test)\n",
        "print(classification_report(y_test_class,predictions))"
      ],
      "execution_count": 35,
      "outputs": [
        {
          "output_type": "stream",
          "text": [
            "              precision    recall  f1-score   support\n",
            "\n",
            "           0       0.83      0.88      0.85      1000\n",
            "           1       0.99      0.98      0.98      1000\n",
            "           2       0.89      0.81      0.85      1000\n",
            "           3       0.89      0.93      0.91      1000\n",
            "           4       0.82      0.86      0.84      1000\n",
            "           5       0.98      0.96      0.97      1000\n",
            "           6       0.74      0.70      0.72      1000\n",
            "           7       0.97      0.93      0.95      1000\n",
            "           8       0.97      0.98      0.98      1000\n",
            "           9       0.93      0.98      0.95      1000\n",
            "\n",
            "    accuracy                           0.90     10000\n",
            "   macro avg       0.90      0.90      0.90     10000\n",
            "weighted avg       0.90      0.90      0.90     10000\n",
            "\n"
          ],
          "name": "stdout"
        }
      ]
    },
    {
      "cell_type": "code",
      "metadata": {
        "id": "EE0hQYQDmS7m",
        "colab_type": "code",
        "colab": {
          "base_uri": "https://localhost:8080/",
          "height": 283
        },
        "outputId": "62c4baae-b10f-4d85-82b7-698ee2aa3080"
      },
      "source": [
        "sns.heatmap(confusion_matrix(y_test_class,predictions),annot=True)"
      ],
      "execution_count": 36,
      "outputs": [
        {
          "output_type": "execute_result",
          "data": {
            "text/plain": [
              "<matplotlib.axes._subplots.AxesSubplot at 0x7f85881274a8>"
            ]
          },
          "metadata": {
            "tags": []
          },
          "execution_count": 36
        },
        {
          "output_type": "display_data",
          "data": {
            "image/png": "[encoded data removed]",
            "text/plain": [
              "<Figure size 432x288 with 2 Axes>"
            ]
          },
          "metadata": {
            "tags": []
          }
        }
      ]
    },
    {
      "cell_type": "markdown",
      "metadata": {
        "id": "E4MkCPjzmS7q",
        "colab_type": "text"
      },
      "source": [
        "## Improve Model"
      ]
    },
    {
      "cell_type": "code",
      "metadata": {
        "id": "cmg9fZQ8mS7r",
        "colab_type": "code",
        "colab": {}
      },
      "source": [
        "model2= Sequential()\n",
        "\n",
        "model2.add(Conv2D(32, [3,3], strides=(1, 1), padding='same', activation='relu', input_shape=(28, 28, 1)))\n",
        "model2.add(Conv2D(32, [3,3], strides=(1, 1), padding='same', activation='relu'))\n",
        "model2.add(MaxPool2D(pool_size=(2, 2)))\n",
        "model2.add(Dropout(0.2))\n",
        "\n",
        "model2.add(Conv2D(64, [3,3], strides=(1, 1), padding='same', activation='relu'))\n",
        "model2.add(Conv2D(64, [3,3], strides=(1, 1), padding='same', activation='relu'))\n",
        "model2.add(MaxPool2D(pool_size=(2, 2)))\n",
        "model2.add(Dropout(0.2))\n",
        "\n",
        "model2.add(Conv2D(128, [3,3], strides=(1, 1), padding='same', activation='relu'))\n",
        "model2.add(Conv2D(128, [3,3], strides=(1, 1), padding='same', activation='relu'))\n",
        "model2.add(MaxPool2D(pool_size=(2, 2)))\n",
        "model2.add(Dropout(0.2))\n",
        "\n",
        "model2.add(Flatten())\n",
        "model2.add(Dense(128, activation='relu'))\n",
        "model2.add(Dropout(0.2))\n",
        "model2.add(Dense(10, activation='softmax'))\n",
        "\n",
        "model2.compile(optimizer='adam', loss='categorical_crossentropy', metrics=['accuracy'])"
      ],
      "execution_count": 0,
      "outputs": []
    },
    {
      "cell_type": "code",
      "metadata": {
        "id": "AhasCFlcmS7v",
        "colab_type": "code",
        "colab": {
          "base_uri": "https://localhost:8080/",
          "height": 737
        },
        "outputId": "d0c2ddf8-02ab-49f3-838a-7ba884707b9b"
      },
      "source": [
        "model2.summary()"
      ],
      "execution_count": 38,
      "outputs": [
        {
          "output_type": "stream",
          "text": [
            "Model: \"sequential_1\"\n",
            "_________________________________________________________________\n",
            "Layer (type)                 Output Shape              Param #   \n",
            "=================================================================\n",
            "conv2d_1 (Conv2D)            (None, 28, 28, 32)        320       \n",
            "_________________________________________________________________\n",
            "conv2d_2 (Conv2D)            (None, 28, 28, 32)        9248      \n",
            "_________________________________________________________________\n",
            "max_pooling2d_1 (MaxPooling2 (None, 14, 14, 32)        0         \n",
            "_________________________________________________________________\n",
            "dropout (Dropout)            (None, 14, 14, 32)        0         \n",
            "_________________________________________________________________\n",
            "conv2d_3 (Conv2D)            (None, 14, 14, 64)        18496     \n",
            "_________________________________________________________________\n",
            "conv2d_4 (Conv2D)            (None, 14, 14, 64)        36928     \n",
            "_________________________________________________________________\n",
            "max_pooling2d_2 (MaxPooling2 (None, 7, 7, 64)          0         \n",
            "_________________________________________________________________\n",
            "dropout_1 (Dropout)          (None, 7, 7, 64)          0         \n",
            "_________________________________________________________________\n",
            "conv2d_5 (Conv2D)            (None, 7, 7, 128)         73856     \n",
            "_________________________________________________________________\n",
            "conv2d_6 (Conv2D)            (None, 7, 7, 128)         147584    \n",
            "_________________________________________________________________\n",
            "max_pooling2d_3 (MaxPooling2 (None, 3, 3, 128)         0         \n",
            "_________________________________________________________________\n",
            "dropout_2 (Dropout)          (None, 3, 3, 128)         0         \n",
            "_________________________________________________________________\n",
            "flatten_1 (Flatten)          (None, 1152)              0         \n",
            "_________________________________________________________________\n",
            "dense_2 (Dense)              (None, 128)               147584    \n",
            "_________________________________________________________________\n",
            "dropout_3 (Dropout)          (None, 128)               0         \n",
            "_________________________________________________________________\n",
            "dense_3 (Dense)              (None, 10)                1290      \n",
            "=================================================================\n",
            "Total params: 435,306\n",
            "Trainable params: 435,306\n",
            "Non-trainable params: 0\n",
            "_________________________________________________________________\n"
          ],
          "name": "stdout"
        }
      ]
    },
    {
      "cell_type": "markdown",
      "metadata": {
        "id": "LkUZ2WOFmS72",
        "colab_type": "text"
      },
      "source": [
        "### Training the Model"
      ]
    },
    {
      "cell_type": "code",
      "metadata": {
        "id": "XOlcYa66mS74",
        "colab_type": "code",
        "colab": {}
      },
      "source": [
        "early_stop= EarlyStopping(monitor='val_loss', mode='min',patience=3,verbose=1)"
      ],
      "execution_count": 0,
      "outputs": []
    },
    {
      "cell_type": "code",
      "metadata": {
        "id": "vTu04GlGmS7-",
        "colab_type": "code",
        "colab": {
          "base_uri": "https://localhost:8080/",
          "height": 431
        },
        "outputId": "6e56dbd1-3455-44d9-994b-5254fc8e7b81"
      },
      "source": [
        "model2.fit(x_train,y_train,epochs=10,verbose=1,callbacks=[early_stop],validation_data=(x_test,y_test))"
      ],
      "execution_count": 40,
      "outputs": [
        {
          "output_type": "stream",
          "text": [
            "Train on 60000 samples, validate on 10000 samples\n",
            "Epoch 1/10\n",
            "60000/60000 [==============================] - 14s 232us/sample - loss: 0.4882 - accuracy: 0.8195 - val_loss: 0.3270 - val_accuracy: 0.8776\n",
            "Epoch 2/10\n",
            "60000/60000 [==============================] - 13s 219us/sample - loss: 0.3062 - accuracy: 0.8864 - val_loss: 0.2641 - val_accuracy: 0.9020\n",
            "Epoch 3/10\n",
            "60000/60000 [==============================] - 13s 217us/sample - loss: 0.2621 - accuracy: 0.9038 - val_loss: 0.2555 - val_accuracy: 0.9036\n",
            "Epoch 4/10\n",
            "60000/60000 [==============================] - 13s 215us/sample - loss: 0.2391 - accuracy: 0.9129 - val_loss: 0.2338 - val_accuracy: 0.9152\n",
            "Epoch 5/10\n",
            "60000/60000 [==============================] - 13s 224us/sample - loss: 0.2228 - accuracy: 0.9169 - val_loss: 0.2301 - val_accuracy: 0.9189\n",
            "Epoch 6/10\n",
            "60000/60000 [==============================] - 13s 221us/sample - loss: 0.2100 - accuracy: 0.9225 - val_loss: 0.2160 - val_accuracy: 0.9248\n",
            "Epoch 7/10\n",
            "60000/60000 [==============================] - 13s 216us/sample - loss: 0.2024 - accuracy: 0.9265 - val_loss: 0.2101 - val_accuracy: 0.9235\n",
            "Epoch 8/10\n",
            "60000/60000 [==============================] - 13s 217us/sample - loss: 0.1922 - accuracy: 0.9278 - val_loss: 0.2140 - val_accuracy: 0.9253\n",
            "Epoch 9/10\n",
            "60000/60000 [==============================] - 13s 216us/sample - loss: 0.1871 - accuracy: 0.9308 - val_loss: 0.2186 - val_accuracy: 0.9242\n",
            "Epoch 10/10\n",
            "60000/60000 [==============================] - 13s 216us/sample - loss: 0.1805 - accuracy: 0.9331 - val_loss: 0.2209 - val_accuracy: 0.9243\n",
            "Epoch 00010: early stopping\n"
          ],
          "name": "stdout"
        },
        {
          "output_type": "execute_result",
          "data": {
            "text/plain": [
              "<tensorflow.python.keras.callbacks.History at 0x7f857bf39438>"
            ]
          },
          "metadata": {
            "tags": []
          },
          "execution_count": 40
        }
      ]
    },
    {
      "cell_type": "markdown",
      "metadata": {
        "id": "CuDt6Aw1mS8E",
        "colab_type": "text"
      },
      "source": [
        "### Evaluating the Model\n"
      ]
    },
    {
      "cell_type": "code",
      "metadata": {
        "id": "zYSk4HK5mS8G",
        "colab_type": "code",
        "colab": {}
      },
      "source": [
        "losses2 = pd.DataFrame(model2.history.history)"
      ],
      "execution_count": 0,
      "outputs": []
    },
    {
      "cell_type": "code",
      "metadata": {
        "id": "QuGPG3tumS8L",
        "colab_type": "code",
        "colab": {
          "base_uri": "https://localhost:8080/",
          "height": 283
        },
        "outputId": "488aed9d-5d9b-4b14-c745-dd6239645dad"
      },
      "source": [
        "losses2[['accuracy','val_accuracy']].plot()"
      ],
      "execution_count": 42,
      "outputs": [
        {
          "output_type": "execute_result",
          "data": {
            "text/plain": [
              "<matplotlib.axes._subplots.AxesSubplot at 0x7f8579ddee48>"
            ]
          },
          "metadata": {
            "tags": []
          },
          "execution_count": 42
        },
        {
          "output_type": "display_data",
          "data": {
            "image/png": "[encoded data removed]",
            "text/plain": [
              "<Figure size 432x288 with 1 Axes>"
            ]
          },
          "metadata": {
            "tags": []
          }
        }
      ]
    },
    {
      "cell_type": "code",
      "metadata": {
        "id": "V05nhgjZmS8Q",
        "colab_type": "code",
        "colab": {
          "base_uri": "https://localhost:8080/",
          "height": 285
        },
        "outputId": "0a799e48-a13f-4158-ef4a-f5d269417c44"
      },
      "source": [
        "losses2[['loss','val_loss']].plot()"
      ],
      "execution_count": 43,
      "outputs": [
        {
          "output_type": "execute_result",
          "data": {
            "text/plain": [
              "<matplotlib.axes._subplots.AxesSubplot at 0x7f857b58d9b0>"
            ]
          },
          "metadata": {
            "tags": []
          },
          "execution_count": 43
        },
        {
          "output_type": "display_data",
          "data": {
            "image/png": "[encoded data removed]",
            "text/plain": [
              "<Figure size 432x288 with 1 Axes>"
            ]
          },
          "metadata": {
            "tags": []
          }
        }
      ]
    },
    {
      "cell_type": "code",
      "metadata": {
        "id": "ZZUFvDD8mS8Y",
        "colab_type": "code",
        "colab": {
          "base_uri": "https://localhost:8080/",
          "height": 53
        },
        "outputId": "2f46307a-2a72-4dcd-abae-fbbb5dcd47dc"
      },
      "source": [
        "print(model2.metrics_names)\n",
        "print(model2.evaluate(x_test,y_test,verbose=0))"
      ],
      "execution_count": 45,
      "outputs": [
        {
          "output_type": "stream",
          "text": [
            "['loss', 'accuracy']\n",
            "[0.22087601847052574, 0.9243]\n"
          ],
          "name": "stdout"
        }
      ]
    },
    {
      "cell_type": "code",
      "metadata": {
        "id": "qW4A4N_3mS8g",
        "colab_type": "code",
        "colab": {
          "base_uri": "https://localhost:8080/",
          "height": 323
        },
        "outputId": "ec7546d5-22e8-44d1-d4ff-5bb0db30fdd7"
      },
      "source": [
        "predictions2 = model2.predict_classes(x_test)\n",
        "print(classification_report(y_test_class,predictions2))"
      ],
      "execution_count": 46,
      "outputs": [
        {
          "output_type": "stream",
          "text": [
            "              precision    recall  f1-score   support\n",
            "\n",
            "           0       0.92      0.82      0.87      1000\n",
            "           1       1.00      0.99      0.99      1000\n",
            "           2       0.90      0.89      0.89      1000\n",
            "           3       0.92      0.92      0.92      1000\n",
            "           4       0.88      0.87      0.88      1000\n",
            "           5       0.99      0.99      0.99      1000\n",
            "           6       0.74      0.82      0.78      1000\n",
            "           7       0.97      0.97      0.97      1000\n",
            "           8       0.98      0.99      0.99      1000\n",
            "           9       0.98      0.97      0.98      1000\n",
            "\n",
            "    accuracy                           0.92     10000\n",
            "   macro avg       0.93      0.92      0.92     10000\n",
            "weighted avg       0.93      0.92      0.92     10000\n",
            "\n"
          ],
          "name": "stdout"
        }
      ]
    },
    {
      "cell_type": "code",
      "metadata": {
        "id": "j9rcwKFGmS8k",
        "colab_type": "code",
        "colab": {
          "base_uri": "https://localhost:8080/",
          "height": 283
        },
        "outputId": "b1b57c93-80c6-4494-bc40-5962f2e3cc00"
      },
      "source": [
        "sns.heatmap(confusion_matrix(y_test_class,predictions2),annot=True)"
      ],
      "execution_count": 47,
      "outputs": [
        {
          "output_type": "execute_result",
          "data": {
            "text/plain": [
              "<matplotlib.axes._subplots.AxesSubplot at 0x7f857b4838d0>"
            ]
          },
          "metadata": {
            "tags": []
          },
          "execution_count": 47
        },
        {
          "output_type": "display_data",
          "data": {
            "image/png": "[encoded data removed]",
            "text/plain": [
              "<Figure size 432x288 with 2 Axes>"
            ]
          },
          "metadata": {
            "tags": []
          }
        }
      ]
    },
    {
      "cell_type": "markdown",
      "metadata": {
        "id": "LFPStiArmS8r",
        "colab_type": "text"
      },
      "source": [
        "## Compare Models"
      ]
    },
    {
      "cell_type": "code",
      "metadata": {
        "id": "FFaWjZlbmS8s",
        "colab_type": "code",
        "colab": {
          "base_uri": "https://localhost:8080/",
          "height": 53
        },
        "outputId": "7fee4bc7-f1ac-4593-c95f-6bb68d4f50d5"
      },
      "source": [
        "print('First Model:    ',model.evaluate(x_test,y_test,verbose=0))\n",
        "print('Improved Model: ',model2.evaluate(x_test,y_test,verbose=0))"
      ],
      "execution_count": 48,
      "outputs": [
        {
          "output_type": "stream",
          "text": [
            "First Model:     [0.3983847061634064, 0.9001]\n",
            "Improved Model:  [0.22087601847052574, 0.9243]\n"
          ],
          "name": "stdout"
        }
      ]
    }
  ]
}