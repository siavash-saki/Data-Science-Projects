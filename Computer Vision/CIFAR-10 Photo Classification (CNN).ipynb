{
  "nbformat": 4,
  "nbformat_minor": 0,
  "metadata": {
    "kernelspec": {
      "name": "python3",
      "display_name": "Python 3"
    },
    "language_info": {
      "codemirror_mode": {
        "name": "ipython",
        "version": 3
      },
      "file_extension": ".py",
      "mimetype": "text/x-python",
      "name": "python",
      "nbconvert_exporter": "python",
      "pygments_lexer": "ipython3",
      "version": "3.7.6"
    },
    "colab": {
      "name": "CIFAR-10_Photo_Classification.ipynb",
      "provenance": [],
      "collapsed_sections": []
    },
    "accelerator": "GPU"
  },
  "cells": [
    {
      "cell_type": "markdown",
      "metadata": {
        "id": "HnSkIcb73a4i",
        "colab_type": "text"
      },
      "source": [
        "# CIFAR-10 Photo Classification\n",
        "\n",
        "#### The goal of this project is to develop a deep convolutional neural network model from scratch for the CIFAR-10 object classification dataset.\n",
        "\n",
        "CIFAR-10 is a dataset of 50,000 32x32 color training images, labeled over 10 categories, and 10,000 test images. [Dataset Reference](https://www.cs.toronto.edu/~kriz/learning-features-2009-TR.pdf): Learning Multiple Layers of Features from Tiny Images, Alex Krizhevsky, 2009.\n"
      ]
    },
    {
      "cell_type": "markdown",
      "metadata": {
        "id": "4_5kSNT63a4w",
        "colab_type": "text"
      },
      "source": [
        "# The Data"
      ]
    },
    {
      "cell_type": "code",
      "metadata": {
        "id": "JDSRNkyS3tsy",
        "colab_type": "code",
        "colab": {
          "base_uri": "https://localhost:8080/",
          "height": 35
        },
        "outputId": "c724d125-651a-42bd-90c1-62e0339bb3e4"
      },
      "source": [
        "%tensorflow_version 2.x"
      ],
      "execution_count": 2,
      "outputs": [
        {
          "output_type": "stream",
          "text": [
            "TensorFlow 2.x selected.\n"
          ],
          "name": "stdout"
        }
      ]
    },
    {
      "cell_type": "code",
      "metadata": {
        "id": "oMTvsbW-3-qG",
        "colab_type": "code",
        "colab": {
          "base_uri": "https://localhost:8080/",
          "height": 35
        },
        "outputId": "2e99b3e8-fcb2-4fdf-fa44-0b19659d61f3"
      },
      "source": [
        "import tensorflow\n",
        "tensorflow.__version__"
      ],
      "execution_count": 3,
      "outputs": [
        {
          "output_type": "execute_result",
          "data": {
            "text/plain": [
              "'2.1.0'"
            ]
          },
          "metadata": {
            "tags": []
          },
          "execution_count": 3
        }
      ]
    },
    {
      "cell_type": "code",
      "metadata": {
        "id": "Xp2vO84v3a4m",
        "colab_type": "code",
        "colab": {}
      },
      "source": [
        "import pandas as pd\n",
        "import numpy as np"
      ],
      "execution_count": 0,
      "outputs": []
    },
    {
      "cell_type": "code",
      "metadata": {
        "id": "dgTnlUrQ3a4y",
        "colab_type": "code",
        "colab": {
          "base_uri": "https://localhost:8080/",
          "height": 53
        },
        "outputId": "009f6a73-1c16-4866-a69d-9011dd826776"
      },
      "source": [
        "from tensorflow.keras.datasets import cifar10\n",
        "\n",
        "(x_train, y_train), (x_test, y_test) = cifar10.load_data()"
      ],
      "execution_count": 5,
      "outputs": [
        {
          "output_type": "stream",
          "text": [
            "Downloading data from https://www.cs.toronto.edu/~kriz/cifar-10-python.tar.gz\n",
            "170500096/170498071 [==============================] - 6s 0us/step\n"
          ],
          "name": "stdout"
        }
      ]
    },
    {
      "cell_type": "code",
      "metadata": {
        "id": "MeFlGy1Q4Btu",
        "colab_type": "code",
        "colab": {}
      },
      "source": [
        ""
      ],
      "execution_count": 0,
      "outputs": []
    },
    {
      "cell_type": "code",
      "metadata": {
        "id": "Uv2EgslY3a45",
        "colab_type": "code",
        "colab": {
          "base_uri": "https://localhost:8080/",
          "height": 35
        },
        "outputId": "48a04a28-1fdf-447e-a896-396bebb149a6"
      },
      "source": [
        "x_train.shape"
      ],
      "execution_count": 6,
      "outputs": [
        {
          "output_type": "execute_result",
          "data": {
            "text/plain": [
              "(50000, 32, 32, 3)"
            ]
          },
          "metadata": {
            "tags": []
          },
          "execution_count": 6
        }
      ]
    },
    {
      "cell_type": "code",
      "metadata": {
        "id": "sC0Cwztd3a5A",
        "colab_type": "code",
        "colab": {
          "base_uri": "https://localhost:8080/",
          "height": 35
        },
        "outputId": "7b4459c1-1074-4a41-aba4-ee48e101334a"
      },
      "source": [
        "x_train[0].shape"
      ],
      "execution_count": 7,
      "outputs": [
        {
          "output_type": "execute_result",
          "data": {
            "text/plain": [
              "(32, 32, 3)"
            ]
          },
          "metadata": {
            "tags": []
          },
          "execution_count": 7
        }
      ]
    },
    {
      "cell_type": "code",
      "metadata": {
        "id": "J7kPupkR3a5G",
        "colab_type": "code",
        "colab": {}
      },
      "source": [
        "import matplotlib.pyplot as plt"
      ],
      "execution_count": 0,
      "outputs": []
    },
    {
      "cell_type": "code",
      "metadata": {
        "id": "AdTydYJ93a5M",
        "colab_type": "code",
        "colab": {
          "base_uri": "https://localhost:8080/",
          "height": 284
        },
        "outputId": "cccc1c77-2118-4e81-c41e-e7f667904dcd"
      },
      "source": [
        "# FROG\n",
        "plt.imshow(x_train[0])"
      ],
      "execution_count": 9,
      "outputs": [
        {
          "output_type": "execute_result",
          "data": {
            "text/plain": [
              "<matplotlib.image.AxesImage at 0x7f2ec9a6f2b0>"
            ]
          },
          "metadata": {
            "tags": []
          },
          "execution_count": 9
        },
        {
          "output_type": "display_data",
          "data": {
            "image/png": "[encoded data removed]",
            "text/plain": [
              "<Figure size 432x288 with 1 Axes>"
            ]
          },
          "metadata": {
            "tags": []
          }
        }
      ]
    },
    {
      "cell_type": "code",
      "metadata": {
        "id": "80Ajfwhc3a5U",
        "colab_type": "code",
        "colab": {
          "base_uri": "https://localhost:8080/",
          "height": 284
        },
        "outputId": "5f3ff397-88ea-4b7e-d32c-7eb4caf1f998"
      },
      "source": [
        "# HORSE\n",
        "plt.imshow(x_train[12])"
      ],
      "execution_count": 10,
      "outputs": [
        {
          "output_type": "execute_result",
          "data": {
            "text/plain": [
              "<matplotlib.image.AxesImage at 0x7f2ec953b6d8>"
            ]
          },
          "metadata": {
            "tags": []
          },
          "execution_count": 10
        },
        {
          "output_type": "display_data",
          "data": {
            "image/png": "[encoded data removed]",
            "text/plain": [
              "<Figure size 432x288 with 1 Axes>"
            ]
          },
          "metadata": {
            "tags": []
          }
        }
      ]
    },
    {
      "cell_type": "markdown",
      "metadata": {
        "id": "gCMPbNk03a5a",
        "colab_type": "text"
      },
      "source": [
        "# PreProcessing"
      ]
    },
    {
      "cell_type": "code",
      "metadata": {
        "id": "fCgSJIvm3a5b",
        "colab_type": "code",
        "colab": {
          "base_uri": "https://localhost:8080/",
          "height": 899
        },
        "outputId": "5142495e-634e-4bf9-80f2-af9b491db625"
      },
      "source": [
        "x_train[0]"
      ],
      "execution_count": 11,
      "outputs": [
        {
          "output_type": "execute_result",
          "data": {
            "text/plain": [
              "array([[[ 59,  62,  63],\n",
              "        [ 43,  46,  45],\n",
              "        [ 50,  48,  43],\n",
              "        ...,\n",
              "        [158, 132, 108],\n",
              "        [152, 125, 102],\n",
              "        [148, 124, 103]],\n",
              "\n",
              "       [[ 16,  20,  20],\n",
              "        [  0,   0,   0],\n",
              "        [ 18,   8,   0],\n",
              "        ...,\n",
              "        [123,  88,  55],\n",
              "        [119,  83,  50],\n",
              "        [122,  87,  57]],\n",
              "\n",
              "       [[ 25,  24,  21],\n",
              "        [ 16,   7,   0],\n",
              "        [ 49,  27,   8],\n",
              "        ...,\n",
              "        [118,  84,  50],\n",
              "        [120,  84,  50],\n",
              "        [109,  73,  42]],\n",
              "\n",
              "       ...,\n",
              "\n",
              "       [[208, 170,  96],\n",
              "        [201, 153,  34],\n",
              "        [198, 161,  26],\n",
              "        ...,\n",
              "        [160, 133,  70],\n",
              "        [ 56,  31,   7],\n",
              "        [ 53,  34,  20]],\n",
              "\n",
              "       [[180, 139,  96],\n",
              "        [173, 123,  42],\n",
              "        [186, 144,  30],\n",
              "        ...,\n",
              "        [184, 148,  94],\n",
              "        [ 97,  62,  34],\n",
              "        [ 83,  53,  34]],\n",
              "\n",
              "       [[177, 144, 116],\n",
              "        [168, 129,  94],\n",
              "        [179, 142,  87],\n",
              "        ...,\n",
              "        [216, 184, 140],\n",
              "        [151, 118,  84],\n",
              "        [123,  92,  72]]], dtype=uint8)"
            ]
          },
          "metadata": {
            "tags": []
          },
          "execution_count": 11
        }
      ]
    },
    {
      "cell_type": "code",
      "metadata": {
        "id": "stXPZuXQ3a5h",
        "colab_type": "code",
        "colab": {
          "base_uri": "https://localhost:8080/",
          "height": 35
        },
        "outputId": "b57c2df9-7935-44bf-f7ba-0654a6c4b219"
      },
      "source": [
        "x_train[0].shape"
      ],
      "execution_count": 12,
      "outputs": [
        {
          "output_type": "execute_result",
          "data": {
            "text/plain": [
              "(32, 32, 3)"
            ]
          },
          "metadata": {
            "tags": []
          },
          "execution_count": 12
        }
      ]
    },
    {
      "cell_type": "code",
      "metadata": {
        "id": "poiP0Fvh3a5o",
        "colab_type": "code",
        "colab": {
          "base_uri": "https://localhost:8080/",
          "height": 35
        },
        "outputId": "a8e4c7ce-8db4-48e4-8bb9-9a9764ce52e3"
      },
      "source": [
        "x_train.max()"
      ],
      "execution_count": 13,
      "outputs": [
        {
          "output_type": "execute_result",
          "data": {
            "text/plain": [
              "255"
            ]
          },
          "metadata": {
            "tags": []
          },
          "execution_count": 13
        }
      ]
    },
    {
      "cell_type": "code",
      "metadata": {
        "id": "IBHB-kql3a5t",
        "colab_type": "code",
        "colab": {}
      },
      "source": [
        "x_train = x_train/225"
      ],
      "execution_count": 0,
      "outputs": []
    },
    {
      "cell_type": "code",
      "metadata": {
        "id": "ZoUB0qjO3a5y",
        "colab_type": "code",
        "colab": {}
      },
      "source": [
        "x_test = x_test/255"
      ],
      "execution_count": 0,
      "outputs": []
    },
    {
      "cell_type": "code",
      "metadata": {
        "id": "O79AhUAy3a54",
        "colab_type": "code",
        "colab": {
          "base_uri": "https://localhost:8080/",
          "height": 35
        },
        "outputId": "0046f5a5-4190-43e2-84f9-3e61d99adead"
      },
      "source": [
        "x_train.shape"
      ],
      "execution_count": 16,
      "outputs": [
        {
          "output_type": "execute_result",
          "data": {
            "text/plain": [
              "(50000, 32, 32, 3)"
            ]
          },
          "metadata": {
            "tags": []
          },
          "execution_count": 16
        }
      ]
    },
    {
      "cell_type": "code",
      "metadata": {
        "id": "J45pg4D_3a59",
        "colab_type": "code",
        "colab": {
          "base_uri": "https://localhost:8080/",
          "height": 35
        },
        "outputId": "29edcd58-3034-47ae-f6dd-e2bc4c7c7da3"
      },
      "source": [
        "x_test.shape"
      ],
      "execution_count": 17,
      "outputs": [
        {
          "output_type": "execute_result",
          "data": {
            "text/plain": [
              "(10000, 32, 32, 3)"
            ]
          },
          "metadata": {
            "tags": []
          },
          "execution_count": 17
        }
      ]
    },
    {
      "cell_type": "markdown",
      "metadata": {
        "id": "BXaBZddn3a6D",
        "colab_type": "text"
      },
      "source": [
        "## Labels"
      ]
    },
    {
      "cell_type": "code",
      "metadata": {
        "id": "HKb3LDYG3a6F",
        "colab_type": "code",
        "colab": {}
      },
      "source": [
        "from tensorflow.keras.utils import to_categorical"
      ],
      "execution_count": 0,
      "outputs": []
    },
    {
      "cell_type": "code",
      "metadata": {
        "id": "Lg7HPhYG3a6L",
        "colab_type": "code",
        "colab": {
          "base_uri": "https://localhost:8080/",
          "height": 35
        },
        "outputId": "5665ea45-6325-4bc9-cae7-a9198ef20332"
      },
      "source": [
        "y_train.shape"
      ],
      "execution_count": 19,
      "outputs": [
        {
          "output_type": "execute_result",
          "data": {
            "text/plain": [
              "(50000, 1)"
            ]
          },
          "metadata": {
            "tags": []
          },
          "execution_count": 19
        }
      ]
    },
    {
      "cell_type": "code",
      "metadata": {
        "id": "xBVQGdCc3a6R",
        "colab_type": "code",
        "colab": {
          "base_uri": "https://localhost:8080/",
          "height": 35
        },
        "outputId": "8a439a97-6379-43a2-be1a-869149e9a23c"
      },
      "source": [
        "y_train[0]"
      ],
      "execution_count": 20,
      "outputs": [
        {
          "output_type": "execute_result",
          "data": {
            "text/plain": [
              "array([6], dtype=uint8)"
            ]
          },
          "metadata": {
            "tags": []
          },
          "execution_count": 20
        }
      ]
    },
    {
      "cell_type": "code",
      "metadata": {
        "id": "b6UMEKs23a6W",
        "colab_type": "code",
        "colab": {}
      },
      "source": [
        "y_cat_train = to_categorical(y_train,10)"
      ],
      "execution_count": 0,
      "outputs": []
    },
    {
      "cell_type": "code",
      "metadata": {
        "id": "X_AFTAxd3a6b",
        "colab_type": "code",
        "colab": {
          "base_uri": "https://localhost:8080/",
          "height": 35
        },
        "outputId": "84c75e8a-f928-42e8-ef3f-e68dbd115a62"
      },
      "source": [
        "y_cat_train.shape"
      ],
      "execution_count": 22,
      "outputs": [
        {
          "output_type": "execute_result",
          "data": {
            "text/plain": [
              "(50000, 10)"
            ]
          },
          "metadata": {
            "tags": []
          },
          "execution_count": 22
        }
      ]
    },
    {
      "cell_type": "code",
      "metadata": {
        "id": "z1h2dc0K3a6g",
        "colab_type": "code",
        "colab": {
          "base_uri": "https://localhost:8080/",
          "height": 35
        },
        "outputId": "36a72b93-568d-4dac-dafc-2d4bc90099b8"
      },
      "source": [
        "y_cat_train[0]"
      ],
      "execution_count": 23,
      "outputs": [
        {
          "output_type": "execute_result",
          "data": {
            "text/plain": [
              "array([0., 0., 0., 0., 0., 0., 1., 0., 0., 0.], dtype=float32)"
            ]
          },
          "metadata": {
            "tags": []
          },
          "execution_count": 23
        }
      ]
    },
    {
      "cell_type": "code",
      "metadata": {
        "id": "goj40EGW3a6m",
        "colab_type": "code",
        "colab": {}
      },
      "source": [
        "y_cat_test = to_categorical(y_test,10)"
      ],
      "execution_count": 0,
      "outputs": []
    },
    {
      "cell_type": "markdown",
      "metadata": {
        "id": "qAY82WnR3a6r",
        "colab_type": "text"
      },
      "source": [
        "----------\n",
        "# Building the Model"
      ]
    },
    {
      "cell_type": "code",
      "metadata": {
        "id": "jZmhbAbN3a60",
        "colab_type": "code",
        "colab": {}
      },
      "source": [
        "from tensorflow.keras.models import Sequential\n",
        "from tensorflow.keras.layers import Dense, Conv2D, MaxPool2D, Flatten"
      ],
      "execution_count": 0,
      "outputs": []
    },
    {
      "cell_type": "code",
      "metadata": {
        "id": "aVuZkIX93a64",
        "colab_type": "code",
        "colab": {}
      },
      "source": [
        "model = Sequential()\n",
        "\n",
        "## FIRST SET OF LAYERS\n",
        "\n",
        "# CONVOLUTIONAL LAYER\n",
        "model.add(Conv2D(filters=32, kernel_size=(4,4),input_shape=(32, 32, 3), activation='relu',))\n",
        "# POOLING LAYER\n",
        "model.add(MaxPool2D(pool_size=(2, 2)))\n",
        "\n",
        "## SECOND SET OF LAYERS\n",
        "\n",
        "# CONVOLUTIONAL LAYER\n",
        "model.add(Conv2D(filters=32, kernel_size=(4,4),input_shape=(32, 32, 3), activation='relu',))\n",
        "# POOLING LAYER\n",
        "model.add(MaxPool2D(pool_size=(2, 2)))\n",
        "\n",
        "# FLATTEN IMAGES FROM 28 by 28 to 764 BEFORE FINAL LAYER\n",
        "model.add(Flatten())\n",
        "\n",
        "# 256 NEURONS IN DENSE HIDDEN LAYER (YOU CAN CHANGE THIS NUMBER OF NEURONS)\n",
        "model.add(Dense(256, activation='relu'))\n",
        "\n",
        "# LAST LAYER IS THE CLASSIFIER, THUS 10 POSSIBLE CLASSES\n",
        "model.add(Dense(10, activation='softmax'))\n",
        "\n",
        "\n",
        "model.compile(loss='categorical_crossentropy',\n",
        "              optimizer='rmsprop',\n",
        "              metrics=['accuracy'])"
      ],
      "execution_count": 0,
      "outputs": []
    },
    {
      "cell_type": "code",
      "metadata": {
        "id": "p9wcHW6S3a69",
        "colab_type": "code",
        "colab": {
          "base_uri": "https://localhost:8080/",
          "height": 413
        },
        "outputId": "dff01862-cbe2-4c1a-81aa-83779b57b42a"
      },
      "source": [
        "model.summary()"
      ],
      "execution_count": 37,
      "outputs": [
        {
          "output_type": "stream",
          "text": [
            "Model: \"sequential_2\"\n",
            "_________________________________________________________________\n",
            "Layer (type)                 Output Shape              Param #   \n",
            "=================================================================\n",
            "conv2d_12 (Conv2D)           (None, 29, 29, 32)        1568      \n",
            "_________________________________________________________________\n",
            "max_pooling2d_6 (MaxPooling2 (None, 14, 14, 32)        0         \n",
            "_________________________________________________________________\n",
            "conv2d_13 (Conv2D)           (None, 11, 11, 32)        16416     \n",
            "_________________________________________________________________\n",
            "max_pooling2d_7 (MaxPooling2 (None, 5, 5, 32)          0         \n",
            "_________________________________________________________________\n",
            "flatten_2 (Flatten)          (None, 800)               0         \n",
            "_________________________________________________________________\n",
            "dense_4 (Dense)              (None, 256)               205056    \n",
            "_________________________________________________________________\n",
            "dense_5 (Dense)              (None, 10)                2570      \n",
            "=================================================================\n",
            "Total params: 225,610\n",
            "Trainable params: 225,610\n",
            "Non-trainable params: 0\n",
            "_________________________________________________________________\n"
          ],
          "name": "stdout"
        }
      ]
    },
    {
      "cell_type": "code",
      "metadata": {
        "id": "vy72jaqk3a7I",
        "colab_type": "code",
        "colab": {}
      },
      "source": [
        "from tensorflow.keras.callbacks import EarlyStopping"
      ],
      "execution_count": 0,
      "outputs": []
    },
    {
      "cell_type": "code",
      "metadata": {
        "id": "7GJsZjEA3a7N",
        "colab_type": "code",
        "colab": {}
      },
      "source": [
        "early_stop = EarlyStopping(monitor='val_loss',patience=3)"
      ],
      "execution_count": 0,
      "outputs": []
    },
    {
      "cell_type": "code",
      "metadata": {
        "id": "vL_jSzlx3a7S",
        "colab_type": "code",
        "colab": {
          "base_uri": "https://localhost:8080/",
          "height": 341
        },
        "outputId": "81d6eed8-0679-4128-a75c-833844ff3b4a"
      },
      "source": [
        "model.fit(x_train,y_cat_train,epochs=15,validation_data=(x_test,y_cat_test),callbacks=[early_stop])"
      ],
      "execution_count": 40,
      "outputs": [
        {
          "output_type": "stream",
          "text": [
            "Train on 50000 samples, validate on 10000 samples\n",
            "Epoch 1/15\n",
            "50000/50000 [==============================] - 8s 165us/sample - loss: 1.5180 - accuracy: 0.4540 - val_loss: 1.4663 - val_accuracy: 0.4782\n",
            "Epoch 2/15\n",
            "50000/50000 [==============================] - 8s 150us/sample - loss: 1.1630 - accuracy: 0.5944 - val_loss: 1.2079 - val_accuracy: 0.5800\n",
            "Epoch 3/15\n",
            "50000/50000 [==============================] - 8s 151us/sample - loss: 1.0167 - accuracy: 0.6471 - val_loss: 1.0321 - val_accuracy: 0.6439\n",
            "Epoch 4/15\n",
            "50000/50000 [==============================] - 7s 148us/sample - loss: 0.9168 - accuracy: 0.6838 - val_loss: 1.1321 - val_accuracy: 0.6150\n",
            "Epoch 5/15\n",
            "50000/50000 [==============================] - 7s 150us/sample - loss: 0.8376 - accuracy: 0.7120 - val_loss: 1.0080 - val_accuracy: 0.6633\n",
            "Epoch 6/15\n",
            "50000/50000 [==============================] - 7s 148us/sample - loss: 0.7756 - accuracy: 0.7358 - val_loss: 1.0939 - val_accuracy: 0.6395\n",
            "Epoch 7/15\n",
            "50000/50000 [==============================] - 8s 151us/sample - loss: 0.7246 - accuracy: 0.7548 - val_loss: 1.0332 - val_accuracy: 0.6540\n",
            "Epoch 8/15\n",
            "50000/50000 [==============================] - 7s 148us/sample - loss: 0.6832 - accuracy: 0.7693 - val_loss: 1.0503 - val_accuracy: 0.6656\n"
          ],
          "name": "stdout"
        },
        {
          "output_type": "execute_result",
          "data": {
            "text/plain": [
              "<tensorflow.python.keras.callbacks.History at 0x7f2e9cfbc2b0>"
            ]
          },
          "metadata": {
            "tags": []
          },
          "execution_count": 40
        }
      ]
    },
    {
      "cell_type": "code",
      "metadata": {
        "id": "w2QGzL273a7Y",
        "colab_type": "code",
        "colab": {}
      },
      "source": [
        "model.save('cifar_first_model.h5')"
      ],
      "execution_count": 0,
      "outputs": []
    },
    {
      "cell_type": "code",
      "metadata": {
        "id": "OlIDKy0O3a7d",
        "colab_type": "code",
        "colab": {}
      },
      "source": [
        "losses = pd.DataFrame(model.history.history)"
      ],
      "execution_count": 0,
      "outputs": []
    },
    {
      "cell_type": "code",
      "metadata": {
        "id": "rrUqXNrT3a7k",
        "colab_type": "code",
        "colab": {
          "base_uri": "https://localhost:8080/",
          "height": 204
        },
        "outputId": "1743cd08-d3a7-40f7-d22f-1c3bfec065a3"
      },
      "source": [
        "losses.head()"
      ],
      "execution_count": 43,
      "outputs": [
        {
          "output_type": "execute_result",
          "data": {
            "text/html": [
              "<div>\n",
              "<style scoped>\n",
              "    .dataframe tbody tr th:only-of-type {\n",
              "        vertical-align: middle;\n",
              "    }\n",
              "\n",
              "    .dataframe tbody tr th {\n",
              "        vertical-align: top;\n",
              "    }\n",
              "\n",
              "    .dataframe thead th {\n",
              "        text-align: right;\n",
              "    }\n",
              "</style>\n",
              "<table border=\"1\" class=\"dataframe\">\n",
              "  <thead>\n",
              "    <tr style=\"text-align: right;\">\n",
              "      <th></th>\n",
              "      <th>loss</th>\n",
              "      <th>accuracy</th>\n",
              "      <th>val_loss</th>\n",
              "      <th>val_accuracy</th>\n",
              "    </tr>\n",
              "  </thead>\n",
              "  <tbody>\n",
              "    <tr>\n",
              "      <th>0</th>\n",
              "      <td>1.517999</td>\n",
              "      <td>0.45404</td>\n",
              "      <td>1.466254</td>\n",
              "      <td>0.4782</td>\n",
              "    </tr>\n",
              "    <tr>\n",
              "      <th>1</th>\n",
              "      <td>1.162996</td>\n",
              "      <td>0.59436</td>\n",
              "      <td>1.207887</td>\n",
              "      <td>0.5800</td>\n",
              "    </tr>\n",
              "    <tr>\n",
              "      <th>2</th>\n",
              "      <td>1.016747</td>\n",
              "      <td>0.64714</td>\n",
              "      <td>1.032060</td>\n",
              "      <td>0.6439</td>\n",
              "    </tr>\n",
              "    <tr>\n",
              "      <th>3</th>\n",
              "      <td>0.916768</td>\n",
              "      <td>0.68382</td>\n",
              "      <td>1.132112</td>\n",
              "      <td>0.6150</td>\n",
              "    </tr>\n",
              "    <tr>\n",
              "      <th>4</th>\n",
              "      <td>0.837646</td>\n",
              "      <td>0.71200</td>\n",
              "      <td>1.008026</td>\n",
              "      <td>0.6633</td>\n",
              "    </tr>\n",
              "  </tbody>\n",
              "</table>\n",
              "</div>"
            ],
            "text/plain": [
              "       loss  accuracy  val_loss  val_accuracy\n",
              "0  1.517999   0.45404  1.466254        0.4782\n",
              "1  1.162996   0.59436  1.207887        0.5800\n",
              "2  1.016747   0.64714  1.032060        0.6439\n",
              "3  0.916768   0.68382  1.132112        0.6150\n",
              "4  0.837646   0.71200  1.008026        0.6633"
            ]
          },
          "metadata": {
            "tags": []
          },
          "execution_count": 43
        }
      ]
    },
    {
      "cell_type": "code",
      "metadata": {
        "id": "a8R9KrZt3a7o",
        "colab_type": "code",
        "colab": {
          "base_uri": "https://localhost:8080/",
          "height": 283
        },
        "outputId": "7b439c53-4b5b-4381-a576-6fdd3e2a117f"
      },
      "source": [
        "losses[['accuracy','val_accuracy']].plot()"
      ],
      "execution_count": 44,
      "outputs": [
        {
          "output_type": "execute_result",
          "data": {
            "text/plain": [
              "<matplotlib.axes._subplots.AxesSubplot at 0x7f2e9ce7bac8>"
            ]
          },
          "metadata": {
            "tags": []
          },
          "execution_count": 44
        },
        {
          "output_type": "display_data",
          "data": {
            "image/png": "[encoded data removed]",
            "text/plain": [
              "<Figure size 432x288 with 1 Axes>"
            ]
          },
          "metadata": {
            "tags": []
          }
        }
      ]
    },
    {
      "cell_type": "code",
      "metadata": {
        "id": "7lkP37FM3a7v",
        "colab_type": "code",
        "colab": {
          "base_uri": "https://localhost:8080/",
          "height": 283
        },
        "outputId": "c45f349a-a1ad-44e6-b42c-2eba8bc1e5b1"
      },
      "source": [
        "losses[['loss','val_loss']].plot()"
      ],
      "execution_count": 45,
      "outputs": [
        {
          "output_type": "execute_result",
          "data": {
            "text/plain": [
              "<matplotlib.axes._subplots.AxesSubplot at 0x7f2e9ce7b630>"
            ]
          },
          "metadata": {
            "tags": []
          },
          "execution_count": 45
        },
        {
          "output_type": "display_data",
          "data": {
            "image/png": "[encoded data removed]",
            "text/plain": [
              "<Figure size 432x288 with 1 Axes>"
            ]
          },
          "metadata": {
            "tags": []
          }
        }
      ]
    },
    {
      "cell_type": "code",
      "metadata": {
        "id": "USTXC7_13a7z",
        "colab_type": "code",
        "colab": {
          "base_uri": "https://localhost:8080/",
          "height": 35
        },
        "outputId": "b802ed81-30cf-482e-bc29-cce85a77dce1"
      },
      "source": [
        "model.metrics_names"
      ],
      "execution_count": 46,
      "outputs": [
        {
          "output_type": "execute_result",
          "data": {
            "text/plain": [
              "['loss', 'accuracy']"
            ]
          },
          "metadata": {
            "tags": []
          },
          "execution_count": 46
        }
      ]
    },
    {
      "cell_type": "code",
      "metadata": {
        "id": "3-53eJq53a73",
        "colab_type": "code",
        "colab": {
          "base_uri": "https://localhost:8080/",
          "height": 53
        },
        "outputId": "0ed94540-f5ee-45dd-9098-a72fa2372ae6"
      },
      "source": [
        "print(model.metrics_names)\n",
        "print(model.evaluate(x_test,y_cat_test,verbose=0))"
      ],
      "execution_count": 47,
      "outputs": [
        {
          "output_type": "stream",
          "text": [
            "['loss', 'accuracy']\n",
            "[1.0503360431671143, 0.6656]\n"
          ],
          "name": "stdout"
        }
      ]
    },
    {
      "cell_type": "code",
      "metadata": {
        "id": "bypkNh7_3a7_",
        "colab_type": "code",
        "colab": {}
      },
      "source": [
        "from sklearn.metrics import classification_report,confusion_matrix\n",
        "\n",
        "predictions = model.predict_classes(x_test)"
      ],
      "execution_count": 0,
      "outputs": []
    },
    {
      "cell_type": "code",
      "metadata": {
        "id": "hmBh7nx73a8F",
        "colab_type": "code",
        "colab": {
          "base_uri": "https://localhost:8080/",
          "height": 323
        },
        "outputId": "c135951a-76bd-4251-80f7-d39107e75958"
      },
      "source": [
        "print(classification_report(y_test,predictions))"
      ],
      "execution_count": 49,
      "outputs": [
        {
          "output_type": "stream",
          "text": [
            "              precision    recall  f1-score   support\n",
            "\n",
            "           0       0.63      0.73      0.68      1000\n",
            "           1       0.78      0.79      0.78      1000\n",
            "           2       0.69      0.49      0.57      1000\n",
            "           3       0.53      0.43      0.48      1000\n",
            "           4       0.64      0.61      0.63      1000\n",
            "           5       0.61      0.56      0.58      1000\n",
            "           6       0.85      0.65      0.74      1000\n",
            "           7       0.65      0.76      0.70      1000\n",
            "           8       0.71      0.79      0.75      1000\n",
            "           9       0.61      0.83      0.70      1000\n",
            "\n",
            "    accuracy                           0.67     10000\n",
            "   macro avg       0.67      0.67      0.66     10000\n",
            "weighted avg       0.67      0.67      0.66     10000\n",
            "\n"
          ],
          "name": "stdout"
        }
      ]
    },
    {
      "cell_type": "code",
      "metadata": {
        "id": "gd0MxYd-3a8K",
        "colab_type": "code",
        "colab": {
          "base_uri": "https://localhost:8080/",
          "height": 197
        },
        "outputId": "e1c85155-b996-4dd5-fe60-a84b95991da5"
      },
      "source": [
        "confusion_matrix(y_test,predictions)"
      ],
      "execution_count": 50,
      "outputs": [
        {
          "output_type": "execute_result",
          "data": {
            "text/plain": [
              "array([[734,  28,  15,   6,   7,   4,   5,   8, 128,  65],\n",
              "       [ 33, 789,   3,   2,   2,   2,   5,   4,  28, 132],\n",
              "       [115,  17, 491,  58,  89,  69,  35,  62,  24,  40],\n",
              "       [ 48,  20,  56, 435,  80, 160,  32,  72,  30,  67],\n",
              "       [ 45,   9,  49,  52, 610,  42,  24, 114,  23,  32],\n",
              "       [ 35,   5,  31, 147,  46, 560,   9, 104,  21,  42],\n",
              "       [ 22,  12,  36,  77,  75,  28, 654,  23,  24,  49],\n",
              "       [ 27,  10,  20,  26,  32,  43,   5, 759,   8,  70],\n",
              "       [ 75,  59,   5,  10,   6,   7,   2,   1, 794,  41],\n",
              "       [ 29,  69,   4,   8,   2,   5,   0,  12,  41, 830]])"
            ]
          },
          "metadata": {
            "tags": []
          },
          "execution_count": 50
        }
      ]
    },
    {
      "cell_type": "code",
      "metadata": {
        "id": "BBbmlaV33a8O",
        "colab_type": "code",
        "colab": {
          "base_uri": "https://localhost:8080/",
          "height": 392
        },
        "outputId": "1a224b9e-dd5d-4bfd-f9c1-1ec81c875e2d"
      },
      "source": [
        "import seaborn as sns\n",
        "plt.figure(figsize=(10,6))\n",
        "sns.heatmap(confusion_matrix(y_test,predictions),annot=True)\n",
        "# https://github.com/matplotlib/matplotlib/issues/14751"
      ],
      "execution_count": 51,
      "outputs": [
        {
          "output_type": "execute_result",
          "data": {
            "text/plain": [
              "<matplotlib.axes._subplots.AxesSubplot at 0x7f2e9c15f048>"
            ]
          },
          "metadata": {
            "tags": []
          },
          "execution_count": 51
        },
        {
          "output_type": "display_data",
          "data": {
            "image/png": "[encoded data removed]",
            "text/plain": [
              "<Figure size 720x432 with 2 Axes>"
            ]
          },
          "metadata": {
            "tags": []
          }
        }
      ]
    },
    {
      "cell_type": "markdown",
      "metadata": {
        "id": "aNAoDQEp3a8S",
        "colab_type": "text"
      },
      "source": [
        "# Predicting a given image"
      ]
    },
    {
      "cell_type": "code",
      "metadata": {
        "id": "JKkL8ZhR3a8T",
        "colab_type": "code",
        "colab": {}
      },
      "source": [
        "my_image = x_test[16]"
      ],
      "execution_count": 0,
      "outputs": []
    },
    {
      "cell_type": "code",
      "metadata": {
        "id": "M4RKAbdu3a8a",
        "colab_type": "code",
        "colab": {},
        "outputId": "84517381-13a5-49b1-f805-b28cd36f2367"
      },
      "source": [
        "plt.imshow(my_image)"
      ],
      "execution_count": 0,
      "outputs": [
        {
          "output_type": "execute_result",
          "data": {
            "text/plain": [
              "<matplotlib.image.AxesImage at 0x7f7f6004f110>"
            ]
          },
          "metadata": {
            "tags": []
          },
          "execution_count": 40
        },
        {
          "output_type": "display_data",
          "data": {
            "image/png": "[encoded data removed]",
            "text/plain": [
              "<Figure size 432x288 with 1 Axes>"
            ]
          },
          "metadata": {
            "tags": [],
            "needs_background": "light"
          }
        }
      ]
    },
    {
      "cell_type": "code",
      "metadata": {
        "id": "HIiXxAzX3a8g",
        "colab_type": "code",
        "colab": {},
        "outputId": "3994166a-9b36-469f-d0bf-7396bc662581"
      },
      "source": [
        "# SHAPE --> (num_images,width,height,color_channels)\n",
        "model.predict_classes(my_image.reshape(1,32,32,3))"
      ],
      "execution_count": 0,
      "outputs": [
        {
          "output_type": "execute_result",
          "data": {
            "text/plain": [
              "array([5])"
            ]
          },
          "metadata": {
            "tags": []
          },
          "execution_count": 41
        }
      ]
    },
    {
      "cell_type": "code",
      "metadata": {
        "id": "Vv3PhQA23a8l",
        "colab_type": "code",
        "colab": {}
      },
      "source": [
        "# 5 is DOG\n",
        "# https://www.cs.toronto.edu/~kriz/cifar.html"
      ],
      "execution_count": 0,
      "outputs": []
    },
    {
      "cell_type": "code",
      "metadata": {
        "id": "JN9JyibY3a8p",
        "colab_type": "code",
        "colab": {}
      },
      "source": [
        ""
      ],
      "execution_count": 0,
      "outputs": []
    },
    {
      "cell_type": "code",
      "metadata": {
        "id": "asKZcD173a8u",
        "colab_type": "code",
        "colab": {}
      },
      "source": [
        ""
      ],
      "execution_count": 0,
      "outputs": []
    },
    {
      "cell_type": "code",
      "metadata": {
        "id": "VQUQOAzD3a8y",
        "colab_type": "code",
        "colab": {}
      },
      "source": [
        ""
      ],
      "execution_count": 0,
      "outputs": []
    },
    {
      "cell_type": "markdown",
      "metadata": {
        "id": "5BiNY-vn5FiY",
        "colab_type": "text"
      },
      "source": [
        "# Improve Model"
      ]
    },
    {
      "cell_type": "code",
      "metadata": {
        "id": "2w__Gfu73a84",
        "colab_type": "code",
        "colab": {}
      },
      "source": [
        "from tensorflow.keras.optimizers import SGD\n",
        "from tensorflow.keras.layers import Dropout"
      ],
      "execution_count": 0,
      "outputs": []
    },
    {
      "cell_type": "code",
      "metadata": {
        "id": "UoLIntki3a89",
        "colab_type": "code",
        "colab": {}
      },
      "source": [
        "model2 = Sequential()\n",
        "\n",
        "model2.add(Conv2D(32, (3, 3), activation='relu', kernel_initializer='he_uniform', padding='same', input_shape=(32, 32, 3)))\n",
        "model2.add(Conv2D(32, (3, 3), activation='relu', kernel_initializer='he_uniform', padding='same'))\n",
        "model2.add(MaxPool2D((2, 2)))\n",
        "model2.add(Dropout(0.2))\n",
        "\n",
        "model2.add(Conv2D(64, (3, 3), activation='relu', kernel_initializer='he_uniform', padding='same'))\n",
        "model2.add(Conv2D(64, (3, 3), activation='relu', kernel_initializer='he_uniform', padding='same'))\n",
        "model2.add(MaxPool2D((2, 2)))\n",
        "model2.add(Dropout(0.2))\n",
        "\n",
        "model2.add(Conv2D(128, (3, 3), activation='relu', kernel_initializer='he_uniform', padding='same'))\n",
        "model2.add(Conv2D(128, (3, 3), activation='relu', kernel_initializer='he_uniform', padding='same'))\n",
        "model2.add(MaxPool2D((2, 2)))\n",
        "model2.add(Dropout(0.2))\n",
        "\n",
        "model2.add(Flatten())\n",
        "model2.add(Dense(128, activation='relu', kernel_initializer='he_uniform'))\n",
        "model2.add(Dropout(0.2))\n",
        "model2.add(Dense(10, activation='softmax'))\n",
        "\n",
        "# compile model\n",
        "opt = SGD(lr=0.001, momentum=0.9)\n",
        "model2.compile(optimizer=opt, loss='categorical_crossentropy', metrics=['accuracy'])"
      ],
      "execution_count": 0,
      "outputs": []
    },
    {
      "cell_type": "code",
      "metadata": {
        "id": "GXW0x4m73a9B",
        "colab_type": "code",
        "colab": {
          "base_uri": "https://localhost:8080/",
          "height": 737
        },
        "outputId": "c2ab483d-304f-4f96-8fc1-1e897bcd5c3c"
      },
      "source": [
        "model2.summary()"
      ],
      "execution_count": 33,
      "outputs": [
        {
          "output_type": "stream",
          "text": [
            "Model: \"sequential_1\"\n",
            "_________________________________________________________________\n",
            "Layer (type)                 Output Shape              Param #   \n",
            "=================================================================\n",
            "conv2d_6 (Conv2D)            (None, 32, 32, 32)        896       \n",
            "_________________________________________________________________\n",
            "conv2d_7 (Conv2D)            (None, 32, 32, 32)        9248      \n",
            "_________________________________________________________________\n",
            "max_pooling2d_3 (MaxPooling2 (None, 16, 16, 32)        0         \n",
            "_________________________________________________________________\n",
            "dropout_4 (Dropout)          (None, 16, 16, 32)        0         \n",
            "_________________________________________________________________\n",
            "conv2d_8 (Conv2D)            (None, 16, 16, 64)        18496     \n",
            "_________________________________________________________________\n",
            "conv2d_9 (Conv2D)            (None, 16, 16, 64)        36928     \n",
            "_________________________________________________________________\n",
            "max_pooling2d_4 (MaxPooling2 (None, 8, 8, 64)          0         \n",
            "_________________________________________________________________\n",
            "dropout_5 (Dropout)          (None, 8, 8, 64)          0         \n",
            "_________________________________________________________________\n",
            "conv2d_10 (Conv2D)           (None, 8, 8, 128)         73856     \n",
            "_________________________________________________________________\n",
            "conv2d_11 (Conv2D)           (None, 8, 8, 128)         147584    \n",
            "_________________________________________________________________\n",
            "max_pooling2d_5 (MaxPooling2 (None, 4, 4, 128)         0         \n",
            "_________________________________________________________________\n",
            "dropout_6 (Dropout)          (None, 4, 4, 128)         0         \n",
            "_________________________________________________________________\n",
            "flatten_1 (Flatten)          (None, 2048)              0         \n",
            "_________________________________________________________________\n",
            "dense_2 (Dense)              (None, 128)               262272    \n",
            "_________________________________________________________________\n",
            "dropout_7 (Dropout)          (None, 128)               0         \n",
            "_________________________________________________________________\n",
            "dense_3 (Dense)              (None, 10)                1290      \n",
            "=================================================================\n",
            "Total params: 550,570\n",
            "Trainable params: 550,570\n",
            "Non-trainable params: 0\n",
            "_________________________________________________________________\n"
          ],
          "name": "stdout"
        }
      ]
    },
    {
      "cell_type": "code",
      "metadata": {
        "id": "EeXMHQiQ3a9G",
        "colab_type": "code",
        "colab": {}
      },
      "source": [
        "early_stop2 = EarlyStopping(monitor='val_loss',patience=10)"
      ],
      "execution_count": 0,
      "outputs": []
    },
    {
      "cell_type": "code",
      "metadata": {
        "id": "HqAorfL33a9K",
        "colab_type": "code",
        "colab": {
          "base_uri": "https://localhost:8080/",
          "height": 1000
        },
        "outputId": "56d9026f-77a0-4369-d12a-03929dceb751"
      },
      "source": [
        "model2.fit(x_train,y_cat_train,epochs=500,validation_data=(x_test,y_cat_test),callbacks=[early_stop2])"
      ],
      "execution_count": 35,
      "outputs": [
        {
          "output_type": "stream",
          "text": [
            "Train on 50000 samples, validate on 10000 samples\n",
            "Epoch 1/500\n",
            "50000/50000 [==============================] - 10s 205us/sample - loss: 1.9369 - accuracy: 0.2781 - val_loss: 1.7293 - val_accuracy: 0.3694\n",
            "Epoch 2/500\n",
            "50000/50000 [==============================] - 10s 192us/sample - loss: 1.5634 - accuracy: 0.4273 - val_loss: 1.3844 - val_accuracy: 0.4952\n",
            "Epoch 3/500\n",
            "50000/50000 [==============================] - 10s 196us/sample - loss: 1.3908 - accuracy: 0.4970 - val_loss: 1.3552 - val_accuracy: 0.5133\n",
            "Epoch 4/500\n",
            "50000/50000 [==============================] - 10s 196us/sample - loss: 1.2694 - accuracy: 0.5453 - val_loss: 1.1421 - val_accuracy: 0.5950\n",
            "Epoch 5/500\n",
            "50000/50000 [==============================] - 10s 192us/sample - loss: 1.1709 - accuracy: 0.5773 - val_loss: 1.0750 - val_accuracy: 0.6206\n",
            "Epoch 6/500\n",
            "50000/50000 [==============================] - 10s 190us/sample - loss: 1.0909 - accuracy: 0.6086 - val_loss: 1.0155 - val_accuracy: 0.6408\n",
            "Epoch 7/500\n",
            "50000/50000 [==============================] - 10s 192us/sample - loss: 1.0356 - accuracy: 0.6321 - val_loss: 0.9298 - val_accuracy: 0.6704\n",
            "Epoch 8/500\n",
            "50000/50000 [==============================] - 10s 193us/sample - loss: 0.9797 - accuracy: 0.6527 - val_loss: 0.8920 - val_accuracy: 0.6888\n",
            "Epoch 9/500\n",
            "50000/50000 [==============================] - 10s 193us/sample - loss: 0.9272 - accuracy: 0.6728 - val_loss: 0.9257 - val_accuracy: 0.6711\n",
            "Epoch 10/500\n",
            "50000/50000 [==============================] - 10s 191us/sample - loss: 0.8870 - accuracy: 0.6866 - val_loss: 0.8066 - val_accuracy: 0.7149\n",
            "Epoch 11/500\n",
            "50000/50000 [==============================] - 10s 194us/sample - loss: 0.8436 - accuracy: 0.7002 - val_loss: 0.8352 - val_accuracy: 0.7025\n",
            "Epoch 12/500\n",
            "50000/50000 [==============================] - 10s 192us/sample - loss: 0.8116 - accuracy: 0.7131 - val_loss: 0.7472 - val_accuracy: 0.7368\n",
            "Epoch 13/500\n",
            "50000/50000 [==============================] - 10s 192us/sample - loss: 0.7788 - accuracy: 0.7254 - val_loss: 0.7521 - val_accuracy: 0.7327\n",
            "Epoch 14/500\n",
            "50000/50000 [==============================] - 10s 192us/sample - loss: 0.7530 - accuracy: 0.7351 - val_loss: 0.7334 - val_accuracy: 0.7435\n",
            "Epoch 15/500\n",
            "50000/50000 [==============================] - 9s 190us/sample - loss: 0.7240 - accuracy: 0.7446 - val_loss: 0.7202 - val_accuracy: 0.7459\n",
            "Epoch 16/500\n",
            "50000/50000 [==============================] - 10s 192us/sample - loss: 0.7071 - accuracy: 0.7492 - val_loss: 0.6723 - val_accuracy: 0.7659\n",
            "Epoch 17/500\n",
            "50000/50000 [==============================] - 10s 192us/sample - loss: 0.6825 - accuracy: 0.7591 - val_loss: 0.6842 - val_accuracy: 0.7633\n",
            "Epoch 18/500\n",
            "50000/50000 [==============================] - 10s 191us/sample - loss: 0.6613 - accuracy: 0.7677 - val_loss: 0.6691 - val_accuracy: 0.7603\n",
            "Epoch 19/500\n",
            "50000/50000 [==============================] - 10s 191us/sample - loss: 0.6387 - accuracy: 0.7749 - val_loss: 0.7024 - val_accuracy: 0.7541\n",
            "Epoch 20/500\n",
            "50000/50000 [==============================] - 10s 195us/sample - loss: 0.6239 - accuracy: 0.7792 - val_loss: 0.6399 - val_accuracy: 0.7783\n",
            "Epoch 21/500\n",
            "50000/50000 [==============================] - 10s 191us/sample - loss: 0.6071 - accuracy: 0.7849 - val_loss: 0.6579 - val_accuracy: 0.7724\n",
            "Epoch 22/500\n",
            "50000/50000 [==============================] - 10s 193us/sample - loss: 0.5889 - accuracy: 0.7914 - val_loss: 0.6300 - val_accuracy: 0.7801\n",
            "Epoch 23/500\n",
            "50000/50000 [==============================] - 10s 192us/sample - loss: 0.5789 - accuracy: 0.7942 - val_loss: 0.6088 - val_accuracy: 0.7896\n",
            "Epoch 24/500\n",
            "50000/50000 [==============================] - 10s 191us/sample - loss: 0.5626 - accuracy: 0.8012 - val_loss: 0.5887 - val_accuracy: 0.7974\n",
            "Epoch 25/500\n",
            "50000/50000 [==============================] - 10s 190us/sample - loss: 0.5458 - accuracy: 0.8067 - val_loss: 0.6098 - val_accuracy: 0.7922\n",
            "Epoch 26/500\n",
            "50000/50000 [==============================] - 10s 192us/sample - loss: 0.5339 - accuracy: 0.8118 - val_loss: 0.6203 - val_accuracy: 0.7889\n",
            "Epoch 27/500\n",
            "50000/50000 [==============================] - 10s 193us/sample - loss: 0.5212 - accuracy: 0.8167 - val_loss: 0.5785 - val_accuracy: 0.7970\n",
            "Epoch 28/500\n",
            "50000/50000 [==============================] - 10s 193us/sample - loss: 0.5087 - accuracy: 0.8181 - val_loss: 0.6021 - val_accuracy: 0.7934\n",
            "Epoch 29/500\n",
            "50000/50000 [==============================] - 10s 195us/sample - loss: 0.4971 - accuracy: 0.8222 - val_loss: 0.5645 - val_accuracy: 0.8088\n",
            "Epoch 30/500\n",
            "50000/50000 [==============================] - 10s 197us/sample - loss: 0.4851 - accuracy: 0.8284 - val_loss: 0.5949 - val_accuracy: 0.7969\n",
            "Epoch 31/500\n",
            "50000/50000 [==============================] - 10s 191us/sample - loss: 0.4667 - accuracy: 0.8354 - val_loss: 0.5870 - val_accuracy: 0.7988\n",
            "Epoch 32/500\n",
            "50000/50000 [==============================] - 10s 191us/sample - loss: 0.4597 - accuracy: 0.8347 - val_loss: 0.5622 - val_accuracy: 0.8074\n",
            "Epoch 33/500\n",
            "50000/50000 [==============================] - 10s 194us/sample - loss: 0.4517 - accuracy: 0.8381 - val_loss: 0.5725 - val_accuracy: 0.8058\n",
            "Epoch 34/500\n",
            "50000/50000 [==============================] - 10s 194us/sample - loss: 0.4420 - accuracy: 0.8433 - val_loss: 0.5526 - val_accuracy: 0.8146\n",
            "Epoch 35/500\n",
            "50000/50000 [==============================] - 10s 197us/sample - loss: 0.4282 - accuracy: 0.8470 - val_loss: 0.5963 - val_accuracy: 0.7995\n",
            "Epoch 36/500\n",
            "50000/50000 [==============================] - 10s 191us/sample - loss: 0.4221 - accuracy: 0.8491 - val_loss: 0.5599 - val_accuracy: 0.8132\n",
            "Epoch 37/500\n",
            "50000/50000 [==============================] - 10s 193us/sample - loss: 0.4141 - accuracy: 0.8518 - val_loss: 0.5537 - val_accuracy: 0.8157\n",
            "Epoch 38/500\n",
            "50000/50000 [==============================] - 10s 193us/sample - loss: 0.3994 - accuracy: 0.8561 - val_loss: 0.5338 - val_accuracy: 0.8183\n",
            "Epoch 39/500\n",
            "50000/50000 [==============================] - 10s 194us/sample - loss: 0.4003 - accuracy: 0.8568 - val_loss: 0.5425 - val_accuracy: 0.8194\n",
            "Epoch 40/500\n",
            "50000/50000 [==============================] - 10s 191us/sample - loss: 0.3874 - accuracy: 0.8614 - val_loss: 0.5373 - val_accuracy: 0.8214\n",
            "Epoch 41/500\n",
            "50000/50000 [==============================] - 10s 192us/sample - loss: 0.3818 - accuracy: 0.8649 - val_loss: 0.5389 - val_accuracy: 0.8216\n",
            "Epoch 42/500\n",
            "50000/50000 [==============================] - 10s 192us/sample - loss: 0.3691 - accuracy: 0.8668 - val_loss: 0.5603 - val_accuracy: 0.8159\n",
            "Epoch 43/500\n",
            "50000/50000 [==============================] - 10s 192us/sample - loss: 0.3608 - accuracy: 0.8713 - val_loss: 0.5437 - val_accuracy: 0.8190\n",
            "Epoch 44/500\n",
            "50000/50000 [==============================] - 10s 194us/sample - loss: 0.3539 - accuracy: 0.8742 - val_loss: 0.5505 - val_accuracy: 0.8177\n",
            "Epoch 45/500\n",
            "50000/50000 [==============================] - 10s 195us/sample - loss: 0.3471 - accuracy: 0.8758 - val_loss: 0.5754 - val_accuracy: 0.8145\n",
            "Epoch 46/500\n",
            "50000/50000 [==============================] - 10s 191us/sample - loss: 0.3380 - accuracy: 0.8784 - val_loss: 0.5438 - val_accuracy: 0.8199\n",
            "Epoch 47/500\n",
            "50000/50000 [==============================] - 10s 193us/sample - loss: 0.3298 - accuracy: 0.8812 - val_loss: 0.5409 - val_accuracy: 0.8224\n",
            "Epoch 48/500\n",
            "50000/50000 [==============================] - 10s 193us/sample - loss: 0.3240 - accuracy: 0.8823 - val_loss: 0.5594 - val_accuracy: 0.8245\n"
          ],
          "name": "stdout"
        },
        {
          "output_type": "execute_result",
          "data": {
            "text/plain": [
              "<tensorflow.python.keras.callbacks.History at 0x7f2ea4065048>"
            ]
          },
          "metadata": {
            "tags": []
          },
          "execution_count": 35
        }
      ]
    },
    {
      "cell_type": "code",
      "metadata": {
        "id": "hMOnpNCM3a9O",
        "colab_type": "code",
        "colab": {}
      },
      "source": [
        "model2.save('cifar_improved_model.h5')"
      ],
      "execution_count": 0,
      "outputs": []
    },
    {
      "cell_type": "code",
      "metadata": {
        "id": "K8yixO8y3a9T",
        "colab_type": "code",
        "colab": {}
      },
      "source": [
        "losses2 = pd.DataFrame(model2.history.history)"
      ],
      "execution_count": 0,
      "outputs": []
    },
    {
      "cell_type": "code",
      "metadata": {
        "id": "tpqkY0EZ3a9W",
        "colab_type": "code",
        "colab": {
          "base_uri": "https://localhost:8080/",
          "height": 283
        },
        "outputId": "ba5467a8-1987-4b5f-de73-98ab93c62818"
      },
      "source": [
        "losses2[['accuracy','val_accuracy']].plot()"
      ],
      "execution_count": 54,
      "outputs": [
        {
          "output_type": "execute_result",
          "data": {
            "text/plain": [
              "<matplotlib.axes._subplots.AxesSubplot at 0x7f2e62905a20>"
            ]
          },
          "metadata": {
            "tags": []
          },
          "execution_count": 54
        },
        {
          "output_type": "display_data",
          "data": {
            "image/png": "[encoded data removed]",
            "text/plain": [
              "<Figure size 432x288 with 1 Axes>"
            ]
          },
          "metadata": {
            "tags": []
          }
        }
      ]
    },
    {
      "cell_type": "code",
      "metadata": {
        "id": "AK6b1Js83a9a",
        "colab_type": "code",
        "colab": {
          "base_uri": "https://localhost:8080/",
          "height": 285
        },
        "outputId": "f1641d65-f639-4057-bf3d-b7da3c7e9b66"
      },
      "source": [
        "losses2[['loss','val_loss']].plot()"
      ],
      "execution_count": 55,
      "outputs": [
        {
          "output_type": "execute_result",
          "data": {
            "text/plain": [
              "<matplotlib.axes._subplots.AxesSubplot at 0x7f2e62821cf8>"
            ]
          },
          "metadata": {
            "tags": []
          },
          "execution_count": 55
        },
        {
          "output_type": "display_data",
          "data": {
            "image/png": "[encoded data removed]",
            "text/plain": [
              "<Figure size 432x288 with 1 Axes>"
            ]
          },
          "metadata": {
            "tags": []
          }
        }
      ]
    },
    {
      "cell_type": "code",
      "metadata": {
        "id": "uc37P9Nz3a9d",
        "colab_type": "code",
        "colab": {
          "base_uri": "https://localhost:8080/",
          "height": 53
        },
        "outputId": "38b2c732-7afe-4dd8-a262-a1fde440bfe4"
      },
      "source": [
        "print(model2.metrics_names)\n",
        "print(model2.evaluate(x_test,y_cat_test,verbose=0))"
      ],
      "execution_count": 56,
      "outputs": [
        {
          "output_type": "stream",
          "text": [
            "['loss', 'accuracy']\n",
            "[0.5594424263954163, 0.8245]\n"
          ],
          "name": "stdout"
        }
      ]
    },
    {
      "cell_type": "code",
      "metadata": {
        "id": "Wm9WiOES3a9h",
        "colab_type": "code",
        "colab": {
          "base_uri": "https://localhost:8080/",
          "height": 323
        },
        "outputId": "42bca68a-997a-4115-86f8-066aa575cfaa"
      },
      "source": [
        "predictions = model2.predict_classes(x_test)\n",
        "print(classification_report(y_test,predictions))"
      ],
      "execution_count": 57,
      "outputs": [
        {
          "output_type": "stream",
          "text": [
            "              precision    recall  f1-score   support\n",
            "\n",
            "           0       0.85      0.85      0.85      1000\n",
            "           1       0.92      0.91      0.91      1000\n",
            "           2       0.82      0.71      0.76      1000\n",
            "           3       0.70      0.61      0.65      1000\n",
            "           4       0.75      0.85      0.80      1000\n",
            "           5       0.70      0.77      0.74      1000\n",
            "           6       0.83      0.89      0.86      1000\n",
            "           7       0.85      0.88      0.87      1000\n",
            "           8       0.92      0.90      0.91      1000\n",
            "           9       0.92      0.87      0.89      1000\n",
            "\n",
            "    accuracy                           0.82     10000\n",
            "   macro avg       0.83      0.82      0.82     10000\n",
            "weighted avg       0.83      0.82      0.82     10000\n",
            "\n"
          ],
          "name": "stdout"
        }
      ]
    },
    {
      "cell_type": "code",
      "metadata": {
        "id": "1c9Ly3NC3a9k",
        "colab_type": "code",
        "colab": {}
      },
      "source": [
        ""
      ],
      "execution_count": 0,
      "outputs": []
    },
    {
      "cell_type": "markdown",
      "metadata": {
        "id": "X4vb95MX-s2g",
        "colab_type": "text"
      },
      "source": [
        "# Summary"
      ]
    },
    {
      "cell_type": "code",
      "metadata": {
        "id": "4b0MgNsm3a9n",
        "colab_type": "code",
        "colab": {
          "base_uri": "https://localhost:8080/",
          "height": 53
        },
        "outputId": "76f22659-9477-41ca-b3ab-2d56e40e6d03"
      },
      "source": [
        "print('First Model Accuracy:    ', model.evaluate(x_test,y_cat_test,verbose=0)[1])\n",
        "print('Improved Model Accuracy: ', model2.evaluate(x_test,y_cat_test,verbose=0)[1])"
      ],
      "execution_count": 59,
      "outputs": [
        {
          "output_type": "stream",
          "text": [
            "First Model Accuracy:     0.6656\n",
            "Improved Model Accuracy:  0.8245\n"
          ],
          "name": "stdout"
        }
      ]
    },
    {
      "cell_type": "code",
      "metadata": {
        "id": "1GhAP5tQ_GVI",
        "colab_type": "code",
        "colab": {}
      },
      "source": [
        ""
      ],
      "execution_count": 0,
      "outputs": []
    }
  ]
}